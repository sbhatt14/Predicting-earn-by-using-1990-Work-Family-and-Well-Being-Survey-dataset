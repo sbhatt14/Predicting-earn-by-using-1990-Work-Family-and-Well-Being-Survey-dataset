{
 "cells": [
  {
   "cell_type": "code",
   "execution_count": 225,
   "metadata": {
    "collapsed": true
   },
   "outputs": [],
   "source": [
    "%matplotlib inline"
   ]
  },
  {
   "cell_type": "code",
   "execution_count": 226,
   "metadata": {
    "collapsed": true
   },
   "outputs": [],
   "source": [
    "import numpy as np\n",
    "import scipy.stats as stats\n",
    "import seaborn as sns\n",
    "import matplotlib.pyplot as plt\n",
    "import pandas as pd\n",
    "import patsy\n",
    "import sklearn.linear_model as linear\n",
    "import random\n",
    "\n",
    "sns.set(style=\"darkgrid\")\n",
    "\n",
    "#import matplotlib\n",
    "#matplotlib.style.use('ggplot')\n",
    "\n",
    "pd.set_option('display.max_rows', 500)\n",
    "pd.set_option('display.max_columns', 500)\n",
    "pd.set_option('display.width', 200)"
   ]
  },
  {
   "cell_type": "markdown",
   "metadata": {},
   "source": [
    "\n",
    "\n",
    "## Directions\n",
    "\n",
    "1. Show all work/steps/calculations. Generating Markdown cells for each answer or explanation as needed as well as Code cells for code. At minimum, you will be submitting 2 things:\n",
    "    1. the .ipynb version of the notebook.\n",
    "    2. the .html version of the notebook `$ jupyter nbconvert <name of notebook>.ipynb`. This is the copy that will be graded.\n",
    "    \n",
    "    You do not need to submit `heights.tsv` as long as you read/reference it from the same location as the notebook. Additionally, you must include any additional files or files in non-standard locations. For example, if you choose to move all the linear regression code to a library rather than include it in the notebook, you must include that library file.\n",
    "    If we cannot run your code, the entire assignment is wrong, a \"0\". This is reproducible research.\n",
    "2. **All** work is to be your own. This is not a group project. You may, however, use code from the lectures and labs. Provide citations for any code that is not your own. You may also consult Stackoverflow, etc. This is not by any means \"closed book\" or anything like that. Basically, I need to see if *you* learned the concepts from the Labs.\n",
    "3. Add whatever markdown or code cells you need in each part to explain and calculate your answers. Don't just provide answers but explain them as well. **Explain and interpret your results. Explain your decisions.** Why are you picking this procedure? Why are you defining the ROPE to be that size? What does a \"90% Bayesian Confidence Interval\" of (24.5, 27.8) *mean*?"
   ]
  },
  {
   "cell_type": "markdown",
   "metadata": {},
   "source": [
    "This Problem Set involves EDA and linear regression. You should refer to the module notes for linear regression for function definitions and starter code (for example, plotting).\n",
    "\n",
    "For this Problem Set, you will be using the `heights.tsv` file. This file contains the following columns (features):\n",
    "\n",
    "* `earn` - During 1989, what was your personal income from your own wages, salary, or other sources, before taxes?\n",
    "* `height1` - Height, feet.\n",
    "* `height2` - Height, inches.\n",
    "* `sex` - (Male, 1), (Female, 2)\n",
    "* `race` - Are you (White, 1), (Black, 2), (Asian, 3), (Native American, 4), (Other, 5)\n",
    "* `hispanic` - Are you hispanic? (Yes, 1), (No, 2)\n",
    "* `ed` - What is the highest grade or year ln school that you have completed? (None, 0), (Elementary, 1-8), (High School 9-12), (College, 13-16), (Some Graduate School, 17), (Graduate School or Professional Degree, 18)\n",
    "* `yearbn` - In what year were you born? 19\\_\\_\n",
    "* `height` - Total height, in inches (computed from height1 and height2).\n",
    "\n",
    "The data is from the *1990 Work, Family, and Well-Being Survey* (Ross, 1990), using only the columns `earn`, `height`, `sex`, `ed` and `yearbn`, we want to create a model that predicts `earn`.\n",
    "\n",
    "For all questions that involve calculating a linear regression model, use `bootstrap_lm` and `describe_bootstrap_fit` from the Module notes. You will need to add Code and Markdown cells to this notebook in order to execute the code necessary to answer the questions as well as to provide all answers. **Clearly indicate what question you are answering**. **Please read all questions carefully before starting and make sure you understand what is being asked of you**.\n",
    "\n",
    "1. Clean any unusually coded data (are binary and categorical variables coded usefully for linear regression?)\n",
    "2. Perform EDA on the data set, note any patterns or problems you find.\n",
    "3. Suppose you want to fit a model: `earn ~ height`. What sign do you expect $\\beta_1$ (the coefficient on height) to have?\n",
    "4. After fitting the model, what sign did $\\beta_1$ have? Did the 95% credible interval for $\\beta_1$ include 0? What is the interpretation of the $\\beta_0$ (intercept) coefficient in this model? How can we improve the interpretability of the intercept term?\n",
    "5. Suppose you want to fit the following model: `earn` explained by `height`, `sex`, `ed` and `yearbn`. What is your prior belief about the signs of the coefficients $\\beta$s for your model? Fit the model.\n",
    "6. Provide an interpretation of each coefficient from this model. Include a discussion of your \"belief\" in the value of the coefficient based on the 95% credible interval.\n",
    "7. Plot the residuals against each of the numerical regressors. Is there a pattern that suggests a transformation would improve the regression?\n",
    "\n",
    "The Problem Set will be graded based on the usual 3 point scale. Excellent will be based on the thoroughness and clarity of your answers for No. 1 - 7. There's a lot to do in Question 2, don't leave yourself short on time. Please remember, do not just execute the code. You must provide an interpretation of the results."
   ]
  },
  {
   "cell_type": "code",
   "execution_count": 227,
   "metadata": {
    "collapsed": false
   },
   "outputs": [
    {
     "name": "stdout",
     "output_type": "stream",
     "text": [
      "<class 'pandas.core.frame.DataFrame'>\n",
      "RangeIndex: 2029 entries, 0 to 2028\n",
      "Data columns (total 9 columns):\n",
      "earn       1379 non-null float64\n",
      "height1    2021 non-null float64\n",
      "height2    2023 non-null float64\n",
      "sex        2029 non-null int64\n",
      "race       2029 non-null int64\n",
      "hisp       2029 non-null int64\n",
      "ed         2029 non-null int64\n",
      "yearbn     2029 non-null int64\n",
      "height     2021 non-null float64\n",
      "dtypes: float64(4), int64(5)\n",
      "memory usage: 142.7 KB\n",
      "None\n"
     ]
    }
   ],
   "source": [
    "# Read TSV file\n",
    "\n",
    "heights = pd.read_csv( \"heights.tsv\", sep=\"\\t\")\n",
    "print heights.info()\n"
   ]
  },
  {
   "cell_type": "code",
   "execution_count": 228,
   "metadata": {
    "collapsed": false
   },
   "outputs": [
    {
     "data": {
      "text/plain": [
       "0.0         187\n",
       "15000.0      68\n",
       "20000.0      66\n",
       "25000.0      62\n",
       "10000.0      62\n",
       "30000.0      54\n",
       "12000.0      52\n",
       "35000.0      39\n",
       "40000.0      35\n",
       "5000.0       31\n",
       "17000.0      30\n",
       "8000.0       28\n",
       "18000.0      28\n",
       "6000.0       27\n",
       "24000.0      25\n",
       "16000.0      23\n",
       "21000.0      23\n",
       "4000.0       22\n",
       "22000.0      22\n",
       "28000.0      22\n",
       "50000.0      21\n",
       "27000.0      21\n",
       "14000.0      21\n",
       "26000.0      20\n",
       "3000.0       19\n",
       "60000.0      18\n",
       "32000.0      17\n",
       "7000.0       17\n",
       "13000.0      16\n",
       "2000.0       15\n",
       "23000.0      15\n",
       "11000.0      14\n",
       "19000.0      13\n",
       "45000.0      12\n",
       "33000.0      12\n",
       "9000.0       11\n",
       "1000.0       11\n",
       "36000.0      10\n",
       "38000.0       8\n",
       "70000.0       7\n",
       "42000.0       6\n",
       "43000.0       6\n",
       "55000.0       5\n",
       "29000.0       5\n",
       "100000.0      5\n",
       "31000.0       5\n",
       "44000.0       5\n",
       "1200.0        5\n",
       "65000.0       4\n",
       "3500.0        4\n",
       "34000.0       4\n",
       "1500.0        4\n",
       "16500.0       4\n",
       "80000.0       4\n",
       "53000.0       3\n",
       "600.0         3\n",
       "12500.0       3\n",
       "90000.0       3\n",
       "41000.0       3\n",
       "700.0         2\n",
       "75000.0       2\n",
       "6500.0        2\n",
       "27500.0       2\n",
       "48000.0       2\n",
       "8500.0        2\n",
       "57000.0       2\n",
       "2400.0        2\n",
       "2500.0        2\n",
       "58000.0       2\n",
       "110000.0      2\n",
       "200.0         2\n",
       "62000.0       2\n",
       "21500.0       2\n",
       "14500.0       2\n",
       "9500.0        2\n",
       "4500.0        2\n",
       "37000.0       2\n",
       "52000.0       2\n",
       "123000.0      1\n",
       "170000.0      1\n",
       "1800.0        1\n",
       "4100.0        1\n",
       "6530.0        1\n",
       "400.0         1\n",
       "47000.0       1\n",
       "18720.0       1\n",
       "4416.0        1\n",
       "2100.0        1\n",
       "18700.0       1\n",
       "265.0         1\n",
       "10500.0       1\n",
       "6108.0        1\n",
       "6200.0        1\n",
       "13800.0       1\n",
       "18600.0       1\n",
       "125000.0      1\n",
       "16400.0       1\n",
       "23900.0       1\n",
       "3840.0        1\n",
       "6600.0        1\n",
       "3192.0        1\n",
       "96000.0       1\n",
       "5124.0        1\n",
       "85000.0       1\n",
       "7200.0        1\n",
       "35900.0       1\n",
       "17500.0       1\n",
       "69000.0       1\n",
       "23500.0       1\n",
       "5300.0        1\n",
       "17600.0       1\n",
       "5500.0        1\n",
       "5400.0        1\n",
       "1400.0        1\n",
       "200000.0      1\n",
       "32750.0       1\n",
       "89000.0       1\n",
       "49000.0       1\n",
       "16040.0       1\n",
       "51000.0       1\n",
       "148000.0      1\n",
       "105000.0      1\n",
       "19005.0       1\n",
       "4700.0        1\n",
       "7500.0        1\n",
       "1700.0        1\n",
       "175000.0      1\n",
       "31500.0       1\n",
       "95000.0       1\n",
       "20112.0       1\n",
       "5800.0        1\n",
       "5688.0        1\n",
       "3600.0        1\n",
       "7600.0        1\n",
       "Name: earn, dtype: int64"
      ]
     },
     "execution_count": 228,
     "metadata": {},
     "output_type": "execute_result"
    }
   ],
   "source": [
    "# Testing the frequency of earns\n",
    "heights.earn.value_counts()\n"
   ]
  },
  {
   "cell_type": "code",
   "execution_count": 229,
   "metadata": {
    "collapsed": false
   },
   "outputs": [
    {
     "data": {
      "text/plain": [
       "64.0    250\n",
       "66.0    247\n",
       "68.0    174\n",
       "63.0    173\n",
       "65.0    155\n",
       "70.0    145\n",
       "62.0    144\n",
       "72.0    128\n",
       "67.0    127\n",
       "69.0    105\n",
       "71.0     90\n",
       "60.0     66\n",
       "73.0     59\n",
       "61.0     56\n",
       "74.0     46\n",
       "75.0     20\n",
       "59.0     17\n",
       "76.0      8\n",
       "77.0      5\n",
       "58.0      3\n",
       "82.0      1\n",
       "78.0      1\n",
       "57.0      1\n",
       "Name: height, dtype: int64"
      ]
     },
     "execution_count": 229,
     "metadata": {},
     "output_type": "execute_result"
    }
   ],
   "source": [
    "# Testing the frequency of height\n",
    "heights.height.value_counts()"
   ]
  },
  {
   "cell_type": "code",
   "execution_count": 230,
   "metadata": {
    "collapsed": false
   },
   "outputs": [
    {
     "data": {
      "text/plain": [
       "2    1281\n",
       "1     748\n",
       "Name: sex, dtype: int64"
      ]
     },
     "execution_count": 230,
     "metadata": {},
     "output_type": "execute_result"
    }
   ],
   "source": [
    "# Testing the frequency of sex\n",
    "heights.sex.value_counts()"
   ]
  },
  {
   "cell_type": "code",
   "execution_count": 231,
   "metadata": {
    "collapsed": false
   },
   "outputs": [
    {
     "data": {
      "text/plain": [
       "12    762\n",
       "16    269\n",
       "14    254\n",
       "13    154\n",
       "18    133\n",
       "15     94\n",
       "17     92\n",
       "11     72\n",
       "8      64\n",
       "10     54\n",
       "9      41\n",
       "6      13\n",
       "7      11\n",
       "5       8\n",
       "4       4\n",
       "3       1\n",
       "99      1\n",
       "98      1\n",
       "2       1\n",
       "Name: ed, dtype: int64"
      ]
     },
     "execution_count": 231,
     "metadata": {},
     "output_type": "execute_result"
    }
   ],
   "source": [
    "# Testing the frequeny of ed\n",
    "heights.ed.value_counts()\n",
    "\n",
    "# The values 98 and 99 are wrongly encoded in the dataset.\n",
    "# These values can has to be "
   ]
  },
  {
   "cell_type": "code",
   "execution_count": 232,
   "metadata": {
    "collapsed": false
   },
   "outputs": [],
   "source": [
    "# Replace 98,99 by not a number as per discussions since the values are meaningless.\n",
    "heights['ed'].replace(98, np.nan,inplace=True)\n",
    "heights['ed'].replace(99, np.nan,inplace=True)"
   ]
  },
  {
   "cell_type": "code",
   "execution_count": 233,
   "metadata": {
    "collapsed": false
   },
   "outputs": [
    {
     "data": {
      "text/plain": [
       "12.0    762\n",
       "16.0    269\n",
       "14.0    254\n",
       "13.0    154\n",
       "18.0    133\n",
       "15.0     94\n",
       "17.0     92\n",
       "11.0     72\n",
       "8.0      64\n",
       "10.0     54\n",
       "9.0      41\n",
       "6.0      13\n",
       "7.0      11\n",
       "5.0       8\n",
       "4.0       4\n",
       "3.0       1\n",
       "2.0       1\n",
       "Name: ed, dtype: int64"
      ]
     },
     "execution_count": 233,
     "metadata": {},
     "output_type": "execute_result"
    }
   ],
   "source": [
    "heights.ed.value_counts()"
   ]
  },
  {
   "cell_type": "code",
   "execution_count": 234,
   "metadata": {
    "collapsed": false
   },
   "outputs": [
    {
     "data": {
      "text/plain": [
       "60    59\n",
       "57    56\n",
       "61    54\n",
       "58    54\n",
       "49    52\n",
       "64    51\n",
       "54    50\n",
       "52    49\n",
       "53    48\n",
       "59    48\n",
       "51    48\n",
       "62    47\n",
       "56    47\n",
       "67    45\n",
       "68    45\n",
       "47    45\n",
       "50    44\n",
       "55    43\n",
       "69    39\n",
       "63    39\n",
       "48    39\n",
       "65    37\n",
       "39    36\n",
       "66    35\n",
       "44    34\n",
       "72    34\n",
       "42    31\n",
       "70    31\n",
       "31    30\n",
       "27    30\n",
       "46    30\n",
       "45    30\n",
       "71    29\n",
       "28    27\n",
       "21    27\n",
       "25    26\n",
       "29    26\n",
       "34    26\n",
       "32    25\n",
       "43    24\n",
       "41    23\n",
       "33    23\n",
       "30    23\n",
       "35    22\n",
       "99    20\n",
       "38    20\n",
       "40    20\n",
       "23    20\n",
       "36    19\n",
       "37    19\n",
       "12    18\n",
       "15    18\n",
       "17    18\n",
       "18    17\n",
       "26    17\n",
       "24    17\n",
       "19    17\n",
       "22    16\n",
       "16    16\n",
       "14    16\n",
       "13    16\n",
       "8     14\n",
       "20    11\n",
       "9      7\n",
       "11     6\n",
       "10     5\n",
       "7      5\n",
       "6      3\n",
       "2      3\n",
       "0      3\n",
       "5      2\n",
       "4      2\n",
       "1      2\n",
       "3      1\n",
       "Name: yearbn, dtype: int64"
      ]
     },
     "execution_count": 234,
     "metadata": {},
     "output_type": "execute_result"
    }
   ],
   "source": [
    "# Testing the frequency of yearbn\n",
    "heights.yearbn.value_counts()"
   ]
  },
  {
   "cell_type": "markdown",
   "metadata": {},
   "source": [
    "# Clean any unusually coded data (are binary and categorical variables coded usefully for linear regression?)\n",
    "\n",
    "This relates to just our scope of the project:\n",
    "\n",
    "From the discussion thread Null values? I will not be considering null values and will be dropping them when encountered.\n",
    "\n",
    "Since, for this dataframe we are just considering\n",
    "\n",
    "1) Earn: 0 are valid values while NaN will be dropped\n",
    "\n",
    "2) Height: The height in inches all values seems valid \n",
    "\n",
    "3) Sex: From visulization module, 2 times female = male doesn't mean anything. Although if a variable is binary we don't see a good reason to build dummy variable. I shall use it because of ease in doing regression analysis where I dont have to write in a lot of code to check all the variable have equal number of observations.\n",
    "\n",
    "4) yearbn: though year 0 doesn't have any meaning all the values in this dataset are from the year with initial 19-''. The data is from the year 1990 and thus data after this year has to be cleaned since it holds no relevance. 20 instances of year 1999.\n",
    "5) ed: although number of years indicate the higher education this needs to be categorized and hence need for dummy _variable. ed_none for none, ed_ele for elementary, ed_high,ed_coll,ed_high,ed_prof."
   ]
  },
  {
   "cell_type": "code",
   "execution_count": 235,
   "metadata": {
    "collapsed": true
   },
   "outputs": [],
   "source": [
    "# Replace 99 values from yearbn since the data is from 90.\n",
    "heights['yearbn'].replace(99, np.nan,inplace=True)"
   ]
  },
  {
   "cell_type": "code",
   "execution_count": 236,
   "metadata": {
    "collapsed": false
   },
   "outputs": [
    {
     "data": {
      "text/plain": [
       "60.0    59\n",
       "57.0    56\n",
       "61.0    54\n",
       "58.0    54\n",
       "49.0    52\n",
       "64.0    51\n",
       "54.0    50\n",
       "52.0    49\n",
       "51.0    48\n",
       "59.0    48\n",
       "53.0    48\n",
       "62.0    47\n",
       "56.0    47\n",
       "67.0    45\n",
       "68.0    45\n",
       "47.0    45\n",
       "50.0    44\n",
       "55.0    43\n",
       "48.0    39\n",
       "69.0    39\n",
       "63.0    39\n",
       "65.0    37\n",
       "39.0    36\n",
       "66.0    35\n",
       "44.0    34\n",
       "72.0    34\n",
       "70.0    31\n",
       "42.0    31\n",
       "46.0    30\n",
       "27.0    30\n",
       "31.0    30\n",
       "45.0    30\n",
       "71.0    29\n",
       "21.0    27\n",
       "28.0    27\n",
       "34.0    26\n",
       "29.0    26\n",
       "25.0    26\n",
       "32.0    25\n",
       "43.0    24\n",
       "41.0    23\n",
       "33.0    23\n",
       "30.0    23\n",
       "35.0    22\n",
       "40.0    20\n",
       "38.0    20\n",
       "23.0    20\n",
       "36.0    19\n",
       "37.0    19\n",
       "12.0    18\n",
       "15.0    18\n",
       "17.0    18\n",
       "18.0    17\n",
       "26.0    17\n",
       "24.0    17\n",
       "19.0    17\n",
       "22.0    16\n",
       "16.0    16\n",
       "14.0    16\n",
       "13.0    16\n",
       "8.0     14\n",
       "20.0    11\n",
       "9.0      7\n",
       "11.0     6\n",
       "10.0     5\n",
       "7.0      5\n",
       "6.0      3\n",
       "2.0      3\n",
       "0.0      3\n",
       "5.0      2\n",
       "4.0      2\n",
       "1.0      2\n",
       "3.0      1\n",
       "Name: yearbn, dtype: int64"
      ]
     },
     "execution_count": 236,
     "metadata": {},
     "output_type": "execute_result"
    }
   ],
   "source": [
    "# Testing the frequency of yearbn\n",
    "# 99 is not included anymore\n",
    "heights.yearbn.value_counts()"
   ]
  },
  {
   "cell_type": "code",
   "execution_count": 237,
   "metadata": {
    "collapsed": false
   },
   "outputs": [],
   "source": [
    "# Replacing the numeric gender values with label\n",
    "\n",
    "# Replace \n",
    "heights['sex'].replace(1, \"male\",inplace=True)\n",
    "heights['sex'].replace(2,\"female\",inplace=True)"
   ]
  },
  {
   "cell_type": "code",
   "execution_count": 238,
   "metadata": {
    "collapsed": false
   },
   "outputs": [
    {
     "data": {
      "text/plain": [
       "female    1281\n",
       "male       748\n",
       "Name: sex, dtype: int64"
      ]
     },
     "execution_count": 238,
     "metadata": {},
     "output_type": "execute_result"
    }
   ],
   "source": [
    "heights.sex.value_counts()"
   ]
  },
  {
   "cell_type": "code",
   "execution_count": 239,
   "metadata": {
    "collapsed": false
   },
   "outputs": [
    {
     "data": {
      "text/html": [
       "<div>\n",
       "<table border=\"1\" class=\"dataframe\">\n",
       "  <thead>\n",
       "    <tr style=\"text-align: right;\">\n",
       "      <th></th>\n",
       "      <th>sex_female</th>\n",
       "      <th>sex_male</th>\n",
       "    </tr>\n",
       "  </thead>\n",
       "  <tbody>\n",
       "    <tr>\n",
       "      <th>0</th>\n",
       "      <td>1.0</td>\n",
       "      <td>0.0</td>\n",
       "    </tr>\n",
       "    <tr>\n",
       "      <th>1</th>\n",
       "      <td>0.0</td>\n",
       "      <td>1.0</td>\n",
       "    </tr>\n",
       "    <tr>\n",
       "      <th>2</th>\n",
       "      <td>0.0</td>\n",
       "      <td>1.0</td>\n",
       "    </tr>\n",
       "    <tr>\n",
       "      <th>3</th>\n",
       "      <td>1.0</td>\n",
       "      <td>0.0</td>\n",
       "    </tr>\n",
       "    <tr>\n",
       "      <th>4</th>\n",
       "      <td>1.0</td>\n",
       "      <td>0.0</td>\n",
       "    </tr>\n",
       "  </tbody>\n",
       "</table>\n",
       "</div>"
      ],
      "text/plain": [
       "   sex_female  sex_male\n",
       "0         1.0       0.0\n",
       "1         0.0       1.0\n",
       "2         0.0       1.0\n",
       "3         1.0       0.0\n",
       "4         1.0       0.0"
      ]
     },
     "execution_count": 239,
     "metadata": {},
     "output_type": "execute_result"
    }
   ],
   "source": [
    "# From module 7\n",
    "# Add male and female column\n",
    "sex_dummies = pd.get_dummies( heights[ \"sex\"], prefix=\"sex\")\n",
    "sex_dummies.head()"
   ]
  },
  {
   "cell_type": "code",
   "execution_count": 240,
   "metadata": {
    "collapsed": false
   },
   "outputs": [
    {
     "data": {
      "text/html": [
       "<div>\n",
       "<table border=\"1\" class=\"dataframe\">\n",
       "  <thead>\n",
       "    <tr style=\"text-align: right;\">\n",
       "      <th></th>\n",
       "      <th>sex_female</th>\n",
       "      <th>sex_male</th>\n",
       "    </tr>\n",
       "  </thead>\n",
       "  <tbody>\n",
       "    <tr>\n",
       "      <th>2024</th>\n",
       "      <td>1.0</td>\n",
       "      <td>0.0</td>\n",
       "    </tr>\n",
       "    <tr>\n",
       "      <th>2025</th>\n",
       "      <td>1.0</td>\n",
       "      <td>0.0</td>\n",
       "    </tr>\n",
       "    <tr>\n",
       "      <th>2026</th>\n",
       "      <td>0.0</td>\n",
       "      <td>1.0</td>\n",
       "    </tr>\n",
       "    <tr>\n",
       "      <th>2027</th>\n",
       "      <td>1.0</td>\n",
       "      <td>0.0</td>\n",
       "    </tr>\n",
       "    <tr>\n",
       "      <th>2028</th>\n",
       "      <td>0.0</td>\n",
       "      <td>1.0</td>\n",
       "    </tr>\n",
       "  </tbody>\n",
       "</table>\n",
       "</div>"
      ],
      "text/plain": [
       "      sex_female  sex_male\n",
       "2024         1.0       0.0\n",
       "2025         1.0       0.0\n",
       "2026         0.0       1.0\n",
       "2027         1.0       0.0\n",
       "2028         0.0       1.0"
      ]
     },
     "execution_count": 240,
     "metadata": {},
     "output_type": "execute_result"
    }
   ],
   "source": [
    "# testing\n",
    "sex_dummies.tail()"
   ]
  },
  {
   "cell_type": "code",
   "execution_count": 241,
   "metadata": {
    "collapsed": true
   },
   "outputs": [],
   "source": [
    "# Append dummy to the dataframe\n",
    "heights = pd.concat( [heights, sex_dummies], axis=1)"
   ]
  },
  {
   "cell_type": "code",
   "execution_count": 242,
   "metadata": {
    "collapsed": false
   },
   "outputs": [
    {
     "data": {
      "text/html": [
       "<div>\n",
       "<table border=\"1\" class=\"dataframe\">\n",
       "  <thead>\n",
       "    <tr style=\"text-align: right;\">\n",
       "      <th></th>\n",
       "      <th>earn</th>\n",
       "      <th>height1</th>\n",
       "      <th>height2</th>\n",
       "      <th>sex</th>\n",
       "      <th>race</th>\n",
       "      <th>hisp</th>\n",
       "      <th>ed</th>\n",
       "      <th>yearbn</th>\n",
       "      <th>height</th>\n",
       "      <th>sex_female</th>\n",
       "      <th>sex_male</th>\n",
       "    </tr>\n",
       "  </thead>\n",
       "  <tbody>\n",
       "    <tr>\n",
       "      <th>0</th>\n",
       "      <td>NaN</td>\n",
       "      <td>5.0</td>\n",
       "      <td>6.0</td>\n",
       "      <td>female</td>\n",
       "      <td>1</td>\n",
       "      <td>2</td>\n",
       "      <td>12.0</td>\n",
       "      <td>53.0</td>\n",
       "      <td>66.0</td>\n",
       "      <td>1.0</td>\n",
       "      <td>0.0</td>\n",
       "    </tr>\n",
       "    <tr>\n",
       "      <th>1</th>\n",
       "      <td>NaN</td>\n",
       "      <td>5.0</td>\n",
       "      <td>4.0</td>\n",
       "      <td>male</td>\n",
       "      <td>2</td>\n",
       "      <td>2</td>\n",
       "      <td>12.0</td>\n",
       "      <td>50.0</td>\n",
       "      <td>64.0</td>\n",
       "      <td>0.0</td>\n",
       "      <td>1.0</td>\n",
       "    </tr>\n",
       "    <tr>\n",
       "      <th>2</th>\n",
       "      <td>50000.0</td>\n",
       "      <td>6.0</td>\n",
       "      <td>2.0</td>\n",
       "      <td>male</td>\n",
       "      <td>1</td>\n",
       "      <td>2</td>\n",
       "      <td>16.0</td>\n",
       "      <td>45.0</td>\n",
       "      <td>74.0</td>\n",
       "      <td>0.0</td>\n",
       "      <td>1.0</td>\n",
       "    </tr>\n",
       "    <tr>\n",
       "      <th>3</th>\n",
       "      <td>60000.0</td>\n",
       "      <td>5.0</td>\n",
       "      <td>6.0</td>\n",
       "      <td>female</td>\n",
       "      <td>1</td>\n",
       "      <td>2</td>\n",
       "      <td>16.0</td>\n",
       "      <td>32.0</td>\n",
       "      <td>66.0</td>\n",
       "      <td>1.0</td>\n",
       "      <td>0.0</td>\n",
       "    </tr>\n",
       "    <tr>\n",
       "      <th>4</th>\n",
       "      <td>30000.0</td>\n",
       "      <td>5.0</td>\n",
       "      <td>4.0</td>\n",
       "      <td>female</td>\n",
       "      <td>1</td>\n",
       "      <td>2</td>\n",
       "      <td>16.0</td>\n",
       "      <td>61.0</td>\n",
       "      <td>64.0</td>\n",
       "      <td>1.0</td>\n",
       "      <td>0.0</td>\n",
       "    </tr>\n",
       "  </tbody>\n",
       "</table>\n",
       "</div>"
      ],
      "text/plain": [
       "      earn  height1  height2     sex  race  hisp    ed  yearbn  height  sex_female  sex_male\n",
       "0      NaN      5.0      6.0  female     1     2  12.0    53.0    66.0         1.0       0.0\n",
       "1      NaN      5.0      4.0    male     2     2  12.0    50.0    64.0         0.0       1.0\n",
       "2  50000.0      6.0      2.0    male     1     2  16.0    45.0    74.0         0.0       1.0\n",
       "3  60000.0      5.0      6.0  female     1     2  16.0    32.0    66.0         1.0       0.0\n",
       "4  30000.0      5.0      4.0  female     1     2  16.0    61.0    64.0         1.0       0.0"
      ]
     },
     "execution_count": 242,
     "metadata": {},
     "output_type": "execute_result"
    }
   ],
   "source": [
    "# test to check append\n",
    "heights.head()"
   ]
  },
  {
   "cell_type": "code",
   "execution_count": 243,
   "metadata": {
    "collapsed": true
   },
   "outputs": [],
   "source": [
    "# Replacing the numeric ed (education) values with relevant label\n",
    "\n",
    "# Replace \n",
    "heights['ed'].replace(0, \"none\",inplace=True)\n",
    "heights['ed'].replace((1,2,3,4,5,6,7,8), \"ele\",inplace=True)\n",
    "heights['ed'].replace((9,10,11,12), \"high\",inplace=True)\n",
    "heights['ed'].replace((13,14,15,16), \"coll\",inplace=True)\n",
    "heights['ed'].replace(17, \"grad\",inplace=True)\n",
    "heights['ed'].replace(18, \"prof\",inplace=True)"
   ]
  },
  {
   "cell_type": "code",
   "execution_count": 244,
   "metadata": {
    "collapsed": false
   },
   "outputs": [
    {
     "data": {
      "text/html": [
       "<div>\n",
       "<table border=\"1\" class=\"dataframe\">\n",
       "  <thead>\n",
       "    <tr style=\"text-align: right;\">\n",
       "      <th></th>\n",
       "      <th>earn</th>\n",
       "      <th>height1</th>\n",
       "      <th>height2</th>\n",
       "      <th>sex</th>\n",
       "      <th>race</th>\n",
       "      <th>hisp</th>\n",
       "      <th>ed</th>\n",
       "      <th>yearbn</th>\n",
       "      <th>height</th>\n",
       "      <th>sex_female</th>\n",
       "      <th>sex_male</th>\n",
       "    </tr>\n",
       "  </thead>\n",
       "  <tbody>\n",
       "    <tr>\n",
       "      <th>0</th>\n",
       "      <td>NaN</td>\n",
       "      <td>5.0</td>\n",
       "      <td>6.0</td>\n",
       "      <td>female</td>\n",
       "      <td>1</td>\n",
       "      <td>2</td>\n",
       "      <td>high</td>\n",
       "      <td>53.0</td>\n",
       "      <td>66.0</td>\n",
       "      <td>1.0</td>\n",
       "      <td>0.0</td>\n",
       "    </tr>\n",
       "    <tr>\n",
       "      <th>1</th>\n",
       "      <td>NaN</td>\n",
       "      <td>5.0</td>\n",
       "      <td>4.0</td>\n",
       "      <td>male</td>\n",
       "      <td>2</td>\n",
       "      <td>2</td>\n",
       "      <td>high</td>\n",
       "      <td>50.0</td>\n",
       "      <td>64.0</td>\n",
       "      <td>0.0</td>\n",
       "      <td>1.0</td>\n",
       "    </tr>\n",
       "    <tr>\n",
       "      <th>2</th>\n",
       "      <td>50000.0</td>\n",
       "      <td>6.0</td>\n",
       "      <td>2.0</td>\n",
       "      <td>male</td>\n",
       "      <td>1</td>\n",
       "      <td>2</td>\n",
       "      <td>coll</td>\n",
       "      <td>45.0</td>\n",
       "      <td>74.0</td>\n",
       "      <td>0.0</td>\n",
       "      <td>1.0</td>\n",
       "    </tr>\n",
       "    <tr>\n",
       "      <th>3</th>\n",
       "      <td>60000.0</td>\n",
       "      <td>5.0</td>\n",
       "      <td>6.0</td>\n",
       "      <td>female</td>\n",
       "      <td>1</td>\n",
       "      <td>2</td>\n",
       "      <td>coll</td>\n",
       "      <td>32.0</td>\n",
       "      <td>66.0</td>\n",
       "      <td>1.0</td>\n",
       "      <td>0.0</td>\n",
       "    </tr>\n",
       "    <tr>\n",
       "      <th>4</th>\n",
       "      <td>30000.0</td>\n",
       "      <td>5.0</td>\n",
       "      <td>4.0</td>\n",
       "      <td>female</td>\n",
       "      <td>1</td>\n",
       "      <td>2</td>\n",
       "      <td>coll</td>\n",
       "      <td>61.0</td>\n",
       "      <td>64.0</td>\n",
       "      <td>1.0</td>\n",
       "      <td>0.0</td>\n",
       "    </tr>\n",
       "  </tbody>\n",
       "</table>\n",
       "</div>"
      ],
      "text/plain": [
       "      earn  height1  height2     sex  race  hisp    ed  yearbn  height  sex_female  sex_male\n",
       "0      NaN      5.0      6.0  female     1     2  high    53.0    66.0         1.0       0.0\n",
       "1      NaN      5.0      4.0    male     2     2  high    50.0    64.0         0.0       1.0\n",
       "2  50000.0      6.0      2.0    male     1     2  coll    45.0    74.0         0.0       1.0\n",
       "3  60000.0      5.0      6.0  female     1     2  coll    32.0    66.0         1.0       0.0\n",
       "4  30000.0      5.0      4.0  female     1     2  coll    61.0    64.0         1.0       0.0"
      ]
     },
     "execution_count": 244,
     "metadata": {},
     "output_type": "execute_result"
    }
   ],
   "source": [
    "heights.head()"
   ]
  },
  {
   "cell_type": "code",
   "execution_count": 245,
   "metadata": {
    "collapsed": false
   },
   "outputs": [
    {
     "data": {
      "text/html": [
       "<div>\n",
       "<table border=\"1\" class=\"dataframe\">\n",
       "  <thead>\n",
       "    <tr style=\"text-align: right;\">\n",
       "      <th></th>\n",
       "      <th>earn</th>\n",
       "      <th>height1</th>\n",
       "      <th>height2</th>\n",
       "      <th>sex</th>\n",
       "      <th>race</th>\n",
       "      <th>hisp</th>\n",
       "      <th>ed</th>\n",
       "      <th>yearbn</th>\n",
       "      <th>height</th>\n",
       "      <th>sex_female</th>\n",
       "      <th>sex_male</th>\n",
       "    </tr>\n",
       "  </thead>\n",
       "  <tbody>\n",
       "    <tr>\n",
       "      <th>2026</th>\n",
       "      <td>60000.0</td>\n",
       "      <td>6.0</td>\n",
       "      <td>0.0</td>\n",
       "      <td>male</td>\n",
       "      <td>1</td>\n",
       "      <td>2</td>\n",
       "      <td>high</td>\n",
       "      <td>40.0</td>\n",
       "      <td>72.0</td>\n",
       "      <td>0.0</td>\n",
       "      <td>1.0</td>\n",
       "    </tr>\n",
       "    <tr>\n",
       "      <th>2027</th>\n",
       "      <td>NaN</td>\n",
       "      <td>5.0</td>\n",
       "      <td>3.0</td>\n",
       "      <td>female</td>\n",
       "      <td>3</td>\n",
       "      <td>2</td>\n",
       "      <td>coll</td>\n",
       "      <td>21.0</td>\n",
       "      <td>63.0</td>\n",
       "      <td>1.0</td>\n",
       "      <td>0.0</td>\n",
       "    </tr>\n",
       "    <tr>\n",
       "      <th>2028</th>\n",
       "      <td>6000.0</td>\n",
       "      <td>5.0</td>\n",
       "      <td>8.0</td>\n",
       "      <td>male</td>\n",
       "      <td>1</td>\n",
       "      <td>2</td>\n",
       "      <td>high</td>\n",
       "      <td>63.0</td>\n",
       "      <td>68.0</td>\n",
       "      <td>0.0</td>\n",
       "      <td>1.0</td>\n",
       "    </tr>\n",
       "  </tbody>\n",
       "</table>\n",
       "</div>"
      ],
      "text/plain": [
       "         earn  height1  height2     sex  race  hisp    ed  yearbn  height  sex_female  sex_male\n",
       "2026  60000.0      6.0      0.0    male     1     2  high    40.0    72.0         0.0       1.0\n",
       "2027      NaN      5.0      3.0  female     3     2  coll    21.0    63.0         1.0       0.0\n",
       "2028   6000.0      5.0      8.0    male     1     2  high    63.0    68.0         0.0       1.0"
      ]
     },
     "execution_count": 245,
     "metadata": {},
     "output_type": "execute_result"
    }
   ],
   "source": [
    "heights.tail(3)"
   ]
  },
  {
   "cell_type": "code",
   "execution_count": 246,
   "metadata": {
    "collapsed": false
   },
   "outputs": [
    {
     "data": {
      "text/html": [
       "<div>\n",
       "<table border=\"1\" class=\"dataframe\">\n",
       "  <thead>\n",
       "    <tr style=\"text-align: right;\">\n",
       "      <th></th>\n",
       "      <th>ed_coll</th>\n",
       "      <th>ed_ele</th>\n",
       "      <th>ed_grad</th>\n",
       "      <th>ed_high</th>\n",
       "      <th>ed_prof</th>\n",
       "    </tr>\n",
       "  </thead>\n",
       "  <tbody>\n",
       "    <tr>\n",
       "      <th>0</th>\n",
       "      <td>0.0</td>\n",
       "      <td>0.0</td>\n",
       "      <td>0.0</td>\n",
       "      <td>1.0</td>\n",
       "      <td>0.0</td>\n",
       "    </tr>\n",
       "    <tr>\n",
       "      <th>1</th>\n",
       "      <td>0.0</td>\n",
       "      <td>0.0</td>\n",
       "      <td>0.0</td>\n",
       "      <td>1.0</td>\n",
       "      <td>0.0</td>\n",
       "    </tr>\n",
       "    <tr>\n",
       "      <th>2</th>\n",
       "      <td>1.0</td>\n",
       "      <td>0.0</td>\n",
       "      <td>0.0</td>\n",
       "      <td>0.0</td>\n",
       "      <td>0.0</td>\n",
       "    </tr>\n",
       "    <tr>\n",
       "      <th>3</th>\n",
       "      <td>1.0</td>\n",
       "      <td>0.0</td>\n",
       "      <td>0.0</td>\n",
       "      <td>0.0</td>\n",
       "      <td>0.0</td>\n",
       "    </tr>\n",
       "    <tr>\n",
       "      <th>4</th>\n",
       "      <td>1.0</td>\n",
       "      <td>0.0</td>\n",
       "      <td>0.0</td>\n",
       "      <td>0.0</td>\n",
       "      <td>0.0</td>\n",
       "    </tr>\n",
       "  </tbody>\n",
       "</table>\n",
       "</div>"
      ],
      "text/plain": [
       "   ed_coll  ed_ele  ed_grad  ed_high  ed_prof\n",
       "0      0.0     0.0      0.0      1.0      0.0\n",
       "1      0.0     0.0      0.0      1.0      0.0\n",
       "2      1.0     0.0      0.0      0.0      0.0\n",
       "3      1.0     0.0      0.0      0.0      0.0\n",
       "4      1.0     0.0      0.0      0.0      0.0"
      ]
     },
     "execution_count": 246,
     "metadata": {},
     "output_type": "execute_result"
    }
   ],
   "source": [
    "# Add ed dummies\n",
    "ed_dummies = pd.get_dummies( heights[ \"ed\"], prefix=\"ed\")\n",
    "ed_dummies.head()"
   ]
  },
  {
   "cell_type": "code",
   "execution_count": 247,
   "metadata": {
    "collapsed": true
   },
   "outputs": [],
   "source": [
    "# Append dummy to the dataframe\n",
    "heights = pd.concat( [heights, ed_dummies], axis=1)"
   ]
  },
  {
   "cell_type": "code",
   "execution_count": 248,
   "metadata": {
    "collapsed": false
   },
   "outputs": [
    {
     "data": {
      "text/html": [
       "<div>\n",
       "<table border=\"1\" class=\"dataframe\">\n",
       "  <thead>\n",
       "    <tr style=\"text-align: right;\">\n",
       "      <th></th>\n",
       "      <th>earn</th>\n",
       "      <th>height1</th>\n",
       "      <th>height2</th>\n",
       "      <th>sex</th>\n",
       "      <th>race</th>\n",
       "      <th>hisp</th>\n",
       "      <th>ed</th>\n",
       "      <th>yearbn</th>\n",
       "      <th>height</th>\n",
       "      <th>sex_female</th>\n",
       "      <th>sex_male</th>\n",
       "      <th>ed_coll</th>\n",
       "      <th>ed_ele</th>\n",
       "      <th>ed_grad</th>\n",
       "      <th>ed_high</th>\n",
       "      <th>ed_prof</th>\n",
       "    </tr>\n",
       "  </thead>\n",
       "  <tbody>\n",
       "    <tr>\n",
       "      <th>0</th>\n",
       "      <td>NaN</td>\n",
       "      <td>5.0</td>\n",
       "      <td>6.0</td>\n",
       "      <td>female</td>\n",
       "      <td>1</td>\n",
       "      <td>2</td>\n",
       "      <td>high</td>\n",
       "      <td>53.0</td>\n",
       "      <td>66.0</td>\n",
       "      <td>1.0</td>\n",
       "      <td>0.0</td>\n",
       "      <td>0.0</td>\n",
       "      <td>0.0</td>\n",
       "      <td>0.0</td>\n",
       "      <td>1.0</td>\n",
       "      <td>0.0</td>\n",
       "    </tr>\n",
       "    <tr>\n",
       "      <th>1</th>\n",
       "      <td>NaN</td>\n",
       "      <td>5.0</td>\n",
       "      <td>4.0</td>\n",
       "      <td>male</td>\n",
       "      <td>2</td>\n",
       "      <td>2</td>\n",
       "      <td>high</td>\n",
       "      <td>50.0</td>\n",
       "      <td>64.0</td>\n",
       "      <td>0.0</td>\n",
       "      <td>1.0</td>\n",
       "      <td>0.0</td>\n",
       "      <td>0.0</td>\n",
       "      <td>0.0</td>\n",
       "      <td>1.0</td>\n",
       "      <td>0.0</td>\n",
       "    </tr>\n",
       "    <tr>\n",
       "      <th>2</th>\n",
       "      <td>50000.0</td>\n",
       "      <td>6.0</td>\n",
       "      <td>2.0</td>\n",
       "      <td>male</td>\n",
       "      <td>1</td>\n",
       "      <td>2</td>\n",
       "      <td>coll</td>\n",
       "      <td>45.0</td>\n",
       "      <td>74.0</td>\n",
       "      <td>0.0</td>\n",
       "      <td>1.0</td>\n",
       "      <td>1.0</td>\n",
       "      <td>0.0</td>\n",
       "      <td>0.0</td>\n",
       "      <td>0.0</td>\n",
       "      <td>0.0</td>\n",
       "    </tr>\n",
       "    <tr>\n",
       "      <th>3</th>\n",
       "      <td>60000.0</td>\n",
       "      <td>5.0</td>\n",
       "      <td>6.0</td>\n",
       "      <td>female</td>\n",
       "      <td>1</td>\n",
       "      <td>2</td>\n",
       "      <td>coll</td>\n",
       "      <td>32.0</td>\n",
       "      <td>66.0</td>\n",
       "      <td>1.0</td>\n",
       "      <td>0.0</td>\n",
       "      <td>1.0</td>\n",
       "      <td>0.0</td>\n",
       "      <td>0.0</td>\n",
       "      <td>0.0</td>\n",
       "      <td>0.0</td>\n",
       "    </tr>\n",
       "    <tr>\n",
       "      <th>4</th>\n",
       "      <td>30000.0</td>\n",
       "      <td>5.0</td>\n",
       "      <td>4.0</td>\n",
       "      <td>female</td>\n",
       "      <td>1</td>\n",
       "      <td>2</td>\n",
       "      <td>coll</td>\n",
       "      <td>61.0</td>\n",
       "      <td>64.0</td>\n",
       "      <td>1.0</td>\n",
       "      <td>0.0</td>\n",
       "      <td>1.0</td>\n",
       "      <td>0.0</td>\n",
       "      <td>0.0</td>\n",
       "      <td>0.0</td>\n",
       "      <td>0.0</td>\n",
       "    </tr>\n",
       "  </tbody>\n",
       "</table>\n",
       "</div>"
      ],
      "text/plain": [
       "      earn  height1  height2     sex  race  hisp    ed  yearbn  height  sex_female  sex_male  ed_coll  ed_ele  ed_grad  ed_high  ed_prof\n",
       "0      NaN      5.0      6.0  female     1     2  high    53.0    66.0         1.0       0.0      0.0     0.0      0.0      1.0      0.0\n",
       "1      NaN      5.0      4.0    male     2     2  high    50.0    64.0         0.0       1.0      0.0     0.0      0.0      1.0      0.0\n",
       "2  50000.0      6.0      2.0    male     1     2  coll    45.0    74.0         0.0       1.0      1.0     0.0      0.0      0.0      0.0\n",
       "3  60000.0      5.0      6.0  female     1     2  coll    32.0    66.0         1.0       0.0      1.0     0.0      0.0      0.0      0.0\n",
       "4  30000.0      5.0      4.0  female     1     2  coll    61.0    64.0         1.0       0.0      1.0     0.0      0.0      0.0      0.0"
      ]
     },
     "execution_count": 248,
     "metadata": {},
     "output_type": "execute_result"
    }
   ],
   "source": [
    "# test to check append\n",
    "heights.head()"
   ]
  },
  {
   "cell_type": "code",
   "execution_count": 249,
   "metadata": {
    "collapsed": true
   },
   "outputs": [],
   "source": [
    "# Drop NaN values:\n",
    "updated_heights = heights.dropna()"
   ]
  },
  {
   "cell_type": "code",
   "execution_count": 250,
   "metadata": {
    "collapsed": false
   },
   "outputs": [
    {
     "data": {
      "text/html": [
       "<div>\n",
       "<table border=\"1\" class=\"dataframe\">\n",
       "  <thead>\n",
       "    <tr style=\"text-align: right;\">\n",
       "      <th></th>\n",
       "      <th>earn</th>\n",
       "      <th>height1</th>\n",
       "      <th>height2</th>\n",
       "      <th>sex</th>\n",
       "      <th>race</th>\n",
       "      <th>hisp</th>\n",
       "      <th>ed</th>\n",
       "      <th>yearbn</th>\n",
       "      <th>height</th>\n",
       "      <th>sex_female</th>\n",
       "      <th>sex_male</th>\n",
       "      <th>ed_coll</th>\n",
       "      <th>ed_ele</th>\n",
       "      <th>ed_grad</th>\n",
       "      <th>ed_high</th>\n",
       "      <th>ed_prof</th>\n",
       "    </tr>\n",
       "  </thead>\n",
       "  <tbody>\n",
       "    <tr>\n",
       "      <th>2</th>\n",
       "      <td>50000.0</td>\n",
       "      <td>6.0</td>\n",
       "      <td>2.0</td>\n",
       "      <td>male</td>\n",
       "      <td>1</td>\n",
       "      <td>2</td>\n",
       "      <td>coll</td>\n",
       "      <td>45.0</td>\n",
       "      <td>74.0</td>\n",
       "      <td>0.0</td>\n",
       "      <td>1.0</td>\n",
       "      <td>1.0</td>\n",
       "      <td>0.0</td>\n",
       "      <td>0.0</td>\n",
       "      <td>0.0</td>\n",
       "      <td>0.0</td>\n",
       "    </tr>\n",
       "    <tr>\n",
       "      <th>3</th>\n",
       "      <td>60000.0</td>\n",
       "      <td>5.0</td>\n",
       "      <td>6.0</td>\n",
       "      <td>female</td>\n",
       "      <td>1</td>\n",
       "      <td>2</td>\n",
       "      <td>coll</td>\n",
       "      <td>32.0</td>\n",
       "      <td>66.0</td>\n",
       "      <td>1.0</td>\n",
       "      <td>0.0</td>\n",
       "      <td>1.0</td>\n",
       "      <td>0.0</td>\n",
       "      <td>0.0</td>\n",
       "      <td>0.0</td>\n",
       "      <td>0.0</td>\n",
       "    </tr>\n",
       "    <tr>\n",
       "      <th>4</th>\n",
       "      <td>30000.0</td>\n",
       "      <td>5.0</td>\n",
       "      <td>4.0</td>\n",
       "      <td>female</td>\n",
       "      <td>1</td>\n",
       "      <td>2</td>\n",
       "      <td>coll</td>\n",
       "      <td>61.0</td>\n",
       "      <td>64.0</td>\n",
       "      <td>1.0</td>\n",
       "      <td>0.0</td>\n",
       "      <td>1.0</td>\n",
       "      <td>0.0</td>\n",
       "      <td>0.0</td>\n",
       "      <td>0.0</td>\n",
       "      <td>0.0</td>\n",
       "    </tr>\n",
       "    <tr>\n",
       "      <th>8</th>\n",
       "      <td>51000.0</td>\n",
       "      <td>5.0</td>\n",
       "      <td>3.0</td>\n",
       "      <td>female</td>\n",
       "      <td>1</td>\n",
       "      <td>2</td>\n",
       "      <td>grad</td>\n",
       "      <td>51.0</td>\n",
       "      <td>63.0</td>\n",
       "      <td>1.0</td>\n",
       "      <td>0.0</td>\n",
       "      <td>0.0</td>\n",
       "      <td>0.0</td>\n",
       "      <td>1.0</td>\n",
       "      <td>0.0</td>\n",
       "      <td>0.0</td>\n",
       "    </tr>\n",
       "    <tr>\n",
       "      <th>9</th>\n",
       "      <td>9000.0</td>\n",
       "      <td>5.0</td>\n",
       "      <td>4.0</td>\n",
       "      <td>female</td>\n",
       "      <td>1</td>\n",
       "      <td>2</td>\n",
       "      <td>coll</td>\n",
       "      <td>64.0</td>\n",
       "      <td>64.0</td>\n",
       "      <td>1.0</td>\n",
       "      <td>0.0</td>\n",
       "      <td>1.0</td>\n",
       "      <td>0.0</td>\n",
       "      <td>0.0</td>\n",
       "      <td>0.0</td>\n",
       "      <td>0.0</td>\n",
       "    </tr>\n",
       "  </tbody>\n",
       "</table>\n",
       "</div>"
      ],
      "text/plain": [
       "      earn  height1  height2     sex  race  hisp    ed  yearbn  height  sex_female  sex_male  ed_coll  ed_ele  ed_grad  ed_high  ed_prof\n",
       "2  50000.0      6.0      2.0    male     1     2  coll    45.0    74.0         0.0       1.0      1.0     0.0      0.0      0.0      0.0\n",
       "3  60000.0      5.0      6.0  female     1     2  coll    32.0    66.0         1.0       0.0      1.0     0.0      0.0      0.0      0.0\n",
       "4  30000.0      5.0      4.0  female     1     2  coll    61.0    64.0         1.0       0.0      1.0     0.0      0.0      0.0      0.0\n",
       "8  51000.0      5.0      3.0  female     1     2  grad    51.0    63.0         1.0       0.0      0.0     0.0      1.0      0.0      0.0\n",
       "9   9000.0      5.0      4.0  female     1     2  coll    64.0    64.0         1.0       0.0      1.0     0.0      0.0      0.0      0.0"
      ]
     },
     "execution_count": 250,
     "metadata": {},
     "output_type": "execute_result"
    }
   ],
   "source": [
    "# Test updated_height dataframe\n",
    "updated_heights.head()"
   ]
  },
  {
   "cell_type": "markdown",
   "metadata": {},
   "source": [
    "# Perform EDA on the data set, note any patterns or problems you find.\n",
    "\n",
    "1) earn\n",
    "\n",
    "2) height\n",
    "\n",
    "3) sex\n",
    "\n",
    "4) ed\n",
    "\n",
    "5) yearbn\n"
   ]
  },
  {
   "cell_type": "markdown",
   "metadata": {
    "collapsed": false
   },
   "source": [
    "For earn\n",
    "Use updated data frame"
   ]
  },
  {
   "cell_type": "code",
   "execution_count": 251,
   "metadata": {
    "collapsed": false
   },
   "outputs": [
    {
     "name": "stderr",
     "output_type": "stream",
     "text": [
      "C:\\Users\\Shubhadeep\\Anaconda2\\lib\\site-packages\\ipykernel\\__main__.py:23: FutureWarning: \n",
      "The default value for 'return_type' will change to 'axes' in a future release.\n",
      " To use the future behavior now, set return_type='axes'.\n",
      " To keep the previous behavior and silence this warning, set return_type='dict'.\n"
     ]
    },
    {
     "data": {
      "image/png": "[encoded data removed]",
      "text/plain": [
       "<matplotlib.figure.Figure at 0xe697d30>"
      ]
     },
     "metadata": {},
     "output_type": "display_data"
    }
   ],
   "source": [
    "# Box plot for earn\n",
    "def restyle_boxplot( patch):\n",
    "    ## change color and linewidth of the whiskers\n",
    "    for whisker in patch['whiskers']:\n",
    "        whisker.set(color='#000000', linewidth=1)\n",
    "\n",
    "    ## change color and linewidth of the caps\n",
    "    for cap in patch['caps']:\n",
    "        cap.set(color='#000000', linewidth=1)\n",
    "\n",
    "    ## change color and linewidth of the medians\n",
    "    for median in patch['medians']:\n",
    "        median.set(color='#000000', linewidth=2)\n",
    "\n",
    "    ## change the style of fliers and their fill\n",
    "    for flier in patch['fliers']:\n",
    "        flier.set(marker='o', color='#000000', alpha=0.2)\n",
    "\n",
    "figure = plt.figure(figsize=(10, 6))\n",
    "\n",
    "\n",
    "axes = figure.add_subplot(1, 2, 2)\n",
    "patch = updated_heights.boxplot(column=\"earn\")\n",
    "restyle_boxplot( patch)\n",
    "x = np.random.normal(1, 0.01, size=len(updated_heights[\"earn\"]))\n",
    "axes.plot(x, updated_heights[ \"earn\"], 'o', alpha=0.4)\n",
    "\n",
    "plt.show()\n"
   ]
  },
  {
   "cell_type": "markdown",
   "metadata": {},
   "source": [
    "The box plot for updated earn show that the range with highest value of 200k and lowest value of 0."
   ]
  },
  {
   "cell_type": "code",
   "execution_count": 252,
   "metadata": {
    "collapsed": false
   },
   "outputs": [
    {
     "data": {
      "image/png": "[encoded data removed]",
      "text/plain": [
       "<matplotlib.figure.Figure at 0xe697438>"
      ]
     },
     "metadata": {},
     "output_type": "display_data"
    }
   ],
   "source": [
    "# Histogram of earn and counts\n",
    "\n",
    "figure = plt.figure(figsize=(20, 6))\n",
    "\n",
    "axes = figure.add_subplot(1, 2, 1)\n",
    "axes.hist( updated_heights[ \"earn\"])\n",
    "axes.set_ylabel( \"Count\")\n",
    "axes.set_xlabel( \"Earn\")\n",
    "\n",
    "# Histogram of earn and desnity\n",
    "axes = figure.add_subplot(1, 2, 2)\n",
    "axes.hist( updated_heights[ \"earn\"], normed=True)\n",
    "axes.set_ylabel( \"Density\")\n",
    "axes.set_xlabel( \"Earn\")\n",
    "\n",
    "plt.show()"
   ]
  },
  {
   "cell_type": "markdown",
   "metadata": {},
   "source": [
    "The earnings are not normally distributed as can be seen which is very true for a real world data. Rather exponentially distributed. "
   ]
  },
  {
   "cell_type": "code",
   "execution_count": 253,
   "metadata": {
    "collapsed": false
   },
   "outputs": [
    {
     "data": {
      "image/png": "[encoded data removed]",
      "text/plain": [
       "<matplotlib.figure.Figure at 0xc413278>"
      ]
     },
     "metadata": {},
     "output_type": "display_data"
    }
   ],
   "source": [
    "# normal reference distribution with the observed mean and standard deviation\n",
    "\n",
    "figure = plt.figure(figsize=(20, 6))\n",
    "\n",
    "axes = figure.add_subplot(1, 2, 1)\n",
    "\n",
    "values, base = np.histogram( updated_heights.earn, bins=11, density=True)\n",
    "cumulative = np.cumsum(values)\n",
    "axes.plot( base[:-1], cumulative, color=\"steelblue\")\n",
    "axes.set_xlim((np.min( updated_heights.earn), np.max( updated_heights.earn)))\n",
    "\n",
    "weight_mean = np.mean( updated_heights.earn)\n",
    "weight_std = np.std(updated_heights.earn)\n",
    "\n",
    "sampled_data = [weight_mean + r * weight_std for r in np.random.standard_normal(10000)]\n",
    "values2, base = np.histogram( sampled_data, bins=base, density=True)\n",
    "cumulative2 = np.cumsum( values2)\n",
    "axes.plot( base[:-1], cumulative2, color=\"firebrick\")\n",
    "axes.set_xlim((np.min( updated_heights.earn), np.max( updated_heights.earn)))\n",
    "axes.set_xlabel( \"Empirical v. Theoretical: Normal Distribution\")\n",
    "axes = figure.add_subplot(1, 2, 2)\n",
    "\n",
    "# Emperical vs normal distribution difference\n",
    "differences = cumulative2 - cumulative\n",
    "axes.plot( base[:-1], differences, color='firebrick')\n",
    "axes.set_xlim((np.min( updated_heights.earn), np.max(updated_heights.earn)))\n",
    "axes.hlines(0, 1500, 4000, linestyles=\"dotted\")\n",
    "axes.set_xlabel( \"Empirical v. Theoretical: Normal Distribution, Difference\")\n",
    "plt.show()"
   ]
  },
  {
   "cell_type": "markdown",
   "metadata": {},
   "source": [
    "The difference between emperical vs theoretical indicates that the earnings (new_heights_earn.earn) is not normally distributed. This reinforces the notion that earnings are not normally distributed. \n",
    "\n",
    "# End of EDA of earning"
   ]
  },
  {
   "cell_type": "markdown",
   "metadata": {},
   "source": [
    "Height is quantitative value\n",
    " Will drop the Nan value while plotting the boxplot all values are in inches."
   ]
  },
  {
   "cell_type": "code",
   "execution_count": 254,
   "metadata": {
    "collapsed": false
   },
   "outputs": [
    {
     "name": "stderr",
     "output_type": "stream",
     "text": [
      "C:\\Users\\Shubhadeep\\Anaconda2\\lib\\site-packages\\ipykernel\\__main__.py:5: FutureWarning: \n",
      "The default value for 'return_type' will change to 'axes' in a future release.\n",
      " To use the future behavior now, set return_type='axes'.\n",
      " To keep the previous behavior and silence this warning, set return_type='dict'.\n"
     ]
    },
    {
     "data": {
      "image/png": "[encoded data removed]",
      "text/plain": [
       "<matplotlib.figure.Figure at 0xc841668>"
      ]
     },
     "metadata": {},
     "output_type": "display_data"
    }
   ],
   "source": [
    "figure = plt.figure(figsize=(10, 6))\n",
    "\n",
    "\n",
    "axes = figure.add_subplot(1, 2, 2)\n",
    "patch = updated_heights.boxplot(column=\"height\")\n",
    "restyle_boxplot( patch)\n",
    "x = np.random.normal(1, 0.01, size=len(updated_heights[\"height\"]))\n",
    "axes.plot(x, updated_heights[ \"height\"], 'o', alpha=0.4)\n",
    "\n",
    "plt.show()\n"
   ]
  },
  {
   "cell_type": "markdown",
   "metadata": {},
   "source": [
    "The boxplot shows a range in inches from somewhat greater than 55 to less than 79. The median is around 66 inches."
   ]
  },
  {
   "cell_type": "code",
   "execution_count": 255,
   "metadata": {
    "collapsed": false
   },
   "outputs": [
    {
     "data": {
      "image/png": "[encoded data removed]",
      "text/plain": [
       "<matplotlib.figure.Figure at 0xe8b67b8>"
      ]
     },
     "metadata": {},
     "output_type": "display_data"
    }
   ],
   "source": [
    "# Histogram of heights and counts\n",
    "\n",
    "figure = plt.figure(figsize=(20, 6))\n",
    "\n",
    "axes = figure.add_subplot(1, 2, 1)\n",
    "axes.hist( updated_heights[ \"height\"])\n",
    "axes.set_ylabel( \"Count\")\n",
    "axes.set_xlabel( \"Height\")\n",
    "\n",
    "# Histogram of heights and desnity\n",
    "axes = figure.add_subplot(1, 2, 2)\n",
    "axes.hist( updated_heights[ \"height\"], normed=True)\n",
    "axes.set_ylabel( \"Density\")\n",
    "axes.set_xlabel( \"Height\")\n",
    "\n",
    "plt.show()"
   ]
  },
  {
   "cell_type": "markdown",
   "metadata": {},
   "source": [
    "Plot showing the count of heights. From the plot of the histogram it appears that the log normal distribution seems to be a good distribution to model the height. The NaN values are dropped"
   ]
  },
  {
   "cell_type": "code",
   "execution_count": 256,
   "metadata": {
    "collapsed": false
   },
   "outputs": [
    {
     "data": {
      "image/png": "[encoded data removed]",
      "text/plain": [
       "<matplotlib.figure.Figure at 0xe5c8518>"
      ]
     },
     "metadata": {},
     "output_type": "display_data"
    }
   ],
   "source": [
    "figure = plt.figure(figsize=(20, 6))\n",
    "\n",
    "axes = figure.add_subplot(1, 2, 1)\n",
    "\n",
    "values, base = np.histogram( updated_heights[ \"height\"], bins=11, density=True)\n",
    "cumulative = np.cumsum(values)\n",
    "axes.plot( base[:-1], cumulative, color=\"steelblue\")\n",
    "axes.set_xlim((np.min( updated_heights[ \"height\"]), np.max( updated_heights[ \"height\"])))\n",
    "\n",
    "weight_mean = np.mean( updated_heights[ \"height\"])\n",
    "weight_std = np.std( updated_heights[ \"height\"])\n",
    "\n",
    "sampled_data = [weight_mean + r * weight_std for r in np.random.standard_normal(10000)]\n",
    "values2, base = np.histogram( sampled_data, bins=base, density=True)\n",
    "cumulative2 = np.cumsum( values2)\n",
    "axes.plot( base[:-1], cumulative2, color=\"firebrick\")\n",
    "axes.set_xlim((np.min( updated_heights[ \"height\"]), np.max( updated_heights[ \"height\"])))\n",
    "axes.set_xlabel( \"Empirical v. Theoretical: Normal Distribution\")\n",
    "axes = figure.add_subplot(1, 2, 2)\n",
    "\n",
    "differences = cumulative2 - cumulative\n",
    "axes.plot( base[:-1], differences, color='firebrick')\n",
    "axes.set_xlim((np.min( updated_heights[ \"height\"]), np.max( updated_heights[ \"height\"])))\n",
    "axes.hlines(0, 1500, 4000, linestyles=\"dotted\")\n",
    "axes.set_xlabel( \"Empirical v. Theoretical: Normal Distribution, Difference\")\n",
    "plt.show()"
   ]
  },
  {
   "cell_type": "markdown",
   "metadata": {},
   "source": [
    "The difference in emperical and theoretical normal distribution showing where normal distribution will over estimate and on what range it will underestimate. Overall it appears log normal distribution is a good model for height."
   ]
  },
  {
   "cell_type": "markdown",
   "metadata": {},
   "source": [
    "# Sex: Qualitative value.\n",
    "\n",
    "The variable sex can take two value male female. Though, its been apended in the data frame by using two dummy variable. This is for ease in doing regression analysis.\n"
   ]
  },
  {
   "cell_type": "code",
   "execution_count": 257,
   "metadata": {
    "collapsed": false
   },
   "outputs": [
    {
     "data": {
      "image/png": "[encoded data removed]",
      "text/plain": [
       "<matplotlib.figure.Figure at 0xc297ba8>"
      ]
     },
     "metadata": {},
     "output_type": "display_data"
    }
   ],
   "source": [
    "data1 = updated_heights[ \"sex\"].value_counts()\n",
    "data2 = updated_heights[ \"sex\"].value_counts( normalize=True)\n",
    "x = range( len( data1))\n",
    "width = 1/1.5\n",
    "\n",
    "figure = plt.figure(figsize=(20, 6))\n",
    "\n",
    "xs = [1, 2]\n",
    "axes = figure.add_subplot(1, 2, 1)\n",
    "axes.plot(xs, data1, \"o\", color=\"steelblue\")\n",
    "axes.vlines(xs, [0], data1, linestyles='dotted', lw=2)\n",
    "axes.set_xticks(xs)\n",
    "axes.set_xlim((0, 6))\n",
    "axes.set_xticklabels(data1.axes[0])\n",
    "axes.set_title( \"Sex Counts\")\n",
    "axes.set_ylabel( \"Counts\")\n",
    "axes.xaxis.grid(False)\n",
    "\n",
    "axes = figure.add_subplot(1, 2, 2)\n",
    "axes.plot(xs, data2, \"o\", color=\"steelblue\")\n",
    "axes.vlines(xs, [0], data2, linestyles='dotted', lw=2)\n",
    "axes.set_xlim((0, 6))\n",
    "axes.set_xticks(xs)\n",
    "axes.set_xticklabels(data2.axes[0])\n",
    "axes.set_title( \"Sex Relative Frequency\")\n",
    "axes.set_ylabel( \"Percent\")\n",
    "axes.xaxis.grid(False)\n",
    "\n",
    "plt.show()"
   ]
  },
  {
   "cell_type": "markdown",
   "metadata": {},
   "source": [
    "Dot charts of sex counts showing number of females and males and relative frequency chart showing upto 63% female 37% males."
   ]
  },
  {
   "cell_type": "markdown",
   "metadata": {},
   "source": [
    "# Education: Qualitative value.\n",
    "\n",
    "The variable ed can take six value ed_none, ed_coll, ed_ele,ed_grad, ed_high, ed_prof . \n",
    "\n"
   ]
  },
  {
   "cell_type": "code",
   "execution_count": 258,
   "metadata": {
    "collapsed": false
   },
   "outputs": [
    {
     "data": {
      "image/png": "[encoded data removed]",
      "text/plain": [
       "<matplotlib.figure.Figure at 0xc297f60>"
      ]
     },
     "metadata": {},
     "output_type": "display_data"
    }
   ],
   "source": [
    "data1 = updated_heights[ \"ed\"].value_counts()\n",
    "data2 = updated_heights[ \"ed\"].value_counts( normalize=True)\n",
    "x = range( len( data1))\n",
    "width = 1/1.5\n",
    "\n",
    "figure = plt.figure(figsize=(20, 6))\n",
    "\n",
    "xs = [1,2,3,4,5]\n",
    "axes = figure.add_subplot(1, 2, 1)\n",
    "axes.plot(xs, data1, \"o\", color=\"steelblue\")\n",
    "axes.vlines(xs, [0], data1, linestyles='dotted', lw=2)\n",
    "axes.set_xticks(xs)\n",
    "axes.set_xlim((0, 20))\n",
    "axes.set_xticklabels(data1.axes[0])\n",
    "axes.set_title( \" Counts by education category\")\n",
    "axes.set_ylabel( \"Counts\")\n",
    "axes.xaxis.grid(False)\n",
    "\n",
    "axes = figure.add_subplot(1, 2, 2)\n",
    "axes.plot(xs, data2, \"o\", color=\"steelblue\")\n",
    "axes.vlines(xs, [0], data2, linestyles='dotted', lw=2)\n",
    "axes.set_xlim((0, 20))\n",
    "axes.set_xticks(xs)\n",
    "axes.set_xticklabels(data2.axes[0])\n",
    "axes.set_title( \"Education count Frequency\")\n",
    "axes.set_ylabel( \"Percent\")\n",
    "axes.xaxis.grid(False)\n",
    "\n",
    "plt.show()"
   ]
  },
  {
   "cell_type": "markdown",
   "metadata": {},
   "source": [
    "By analysis we see that data is exponentialialy distributed with most people having just a high school diploma around more than  600. As a relative frequency we can see that aroun 45% people have just high school diploma."
   ]
  },
  {
   "cell_type": "markdown",
   "metadata": {},
   "source": [
    "# yearborn: Quantitative value.\n",
    "\n",
    "The values NaN are dropped from all yearbn this includes the ones born after 1990."
   ]
  },
  {
   "cell_type": "code",
   "execution_count": 259,
   "metadata": {
    "collapsed": false
   },
   "outputs": [
    {
     "name": "stderr",
     "output_type": "stream",
     "text": [
      "C:\\Users\\Shubhadeep\\Anaconda2\\lib\\site-packages\\ipykernel\\__main__.py:24: FutureWarning: \n",
      "The default value for 'return_type' will change to 'axes' in a future release.\n",
      " To use the future behavior now, set return_type='axes'.\n",
      " To keep the previous behavior and silence this warning, set return_type='dict'.\n"
     ]
    },
    {
     "data": {
      "image/png": "[encoded data removed]",
      "text/plain": [
       "<matplotlib.figure.Figure at 0xcad68d0>"
      ]
     },
     "metadata": {},
     "output_type": "display_data"
    }
   ],
   "source": [
    "\n",
    "# Box plot for yearbn\n",
    "def restyle_boxplot( patch):\n",
    "    ## change color and linewidth of the whiskers\n",
    "    for whisker in patch['whiskers']:\n",
    "        whisker.set(color='#000000', linewidth=1)\n",
    "\n",
    "    ## change color and linewidth of the caps\n",
    "    for cap in patch['caps']:\n",
    "        cap.set(color='#000000', linewidth=1)\n",
    "\n",
    "    ## change color and linewidth of the medians\n",
    "    for median in patch['medians']:\n",
    "        median.set(color='#000000', linewidth=2)\n",
    "\n",
    "    ## change the style of fliers and their fill\n",
    "    for flier in patch['fliers']:\n",
    "        flier.set(marker='o', color='#000000', alpha=0.2)\n",
    "\n",
    "figure = plt.figure(figsize=(10, 6))\n",
    "\n",
    "\n",
    "axes = figure.add_subplot(1, 2, 2)\n",
    "patch = updated_heights.boxplot(column=\"yearbn\")\n",
    "restyle_boxplot( patch)\n",
    "x = np.random.normal(1, 0.01, size=len(updated_heights[\"yearbn\"]))\n",
    "axes.plot(x, updated_heights[ \"yearbn\"], 'o', alpha=0.4)\n",
    "\n",
    "plt.show()"
   ]
  },
  {
   "cell_type": "markdown",
   "metadata": {},
   "source": [
    "The range cover entire year from 1900 - to mid 70's. Box plot showing the data points"
   ]
  },
  {
   "cell_type": "code",
   "execution_count": 260,
   "metadata": {
    "collapsed": false
   },
   "outputs": [
    {
     "data": {
      "image/png": "[encoded data removed]",
      "text/plain": [
       "<matplotlib.figure.Figure at 0xe8caef0>"
      ]
     },
     "metadata": {},
     "output_type": "display_data"
    }
   ],
   "source": [
    "# Histogram of \n",
    "figure = plt.figure(figsize=(20, 6))\n",
    "\n",
    "axes = figure.add_subplot(1, 2, 1)\n",
    "axes.hist( updated_heights[ \"yearbn\"])\n",
    "axes.set_ylabel( \"Count\")\n",
    "axes.set_xlabel( \"Year\")\n",
    "\n",
    "axes = figure.add_subplot(1, 2, 2)\n",
    "axes.hist( updated_heights[ \"yearbn\"], normed=True)\n",
    "axes.set_ylabel( \"Density\")\n",
    "axes.set_xlabel( \"YearBn\")\n",
    "\n",
    "plt.show()"
   ]
  },
  {
   "cell_type": "code",
   "execution_count": 261,
   "metadata": {
    "collapsed": false
   },
   "outputs": [
    {
     "data": {
      "image/png": "[encoded data removed]",
      "text/plain": [
       "<matplotlib.figure.Figure at 0xec56630>"
      ]
     },
     "metadata": {},
     "output_type": "display_data"
    }
   ],
   "source": [
    "# Plot difference of Emplerical and theoretical normal distribution for year born\n",
    "figure = plt.figure(figsize=(20, 6))\n",
    "axes = figure.add_subplot(1, 2, 1)\n",
    "\n",
    "values, base = np.histogram( updated_heights[ \"yearbn\"], bins=11, density=True)\n",
    "cumulative = np.cumsum(values)\n",
    "axes.plot( base[:-1], cumulative, color=\"steelblue\")\n",
    "axes.set_xlim((np.min( updated_heights[ \"yearbn\"]), np.max( updated_heights[ \"yearbn\"])))\n",
    "\n",
    "weight_mean = np.mean( updated_heights[ \"yearbn\"])\n",
    "weight_std = np.std( updated_heights[ \"yearbn\"])\n",
    "\n",
    "sampled_data = [weight_mean + r * weight_std for r in np.random.standard_normal(10000)]\n",
    "values2, base = np.histogram( sampled_data, bins=base, density=True)\n",
    "cumulative2 = np.cumsum( values2)\n",
    "axes.plot( base[:-1], cumulative2, color=\"firebrick\")\n",
    "axes.set_xlim((np.min( updated_heights[ \"yearbn\"]), np.max( updated_heights[ \"yearbn\"])))\n",
    "axes.set_xlabel( \"Empirical v. Theoretical: Normal Distribution\")\n",
    "axes = figure.add_subplot(1, 2, 2)\n",
    "\n",
    "differences = cumulative2 - cumulative\n",
    "axes.plot( base[:-1], differences, color='firebrick')\n",
    "axes.set_xlim((np.min( updated_heights[ \"yearbn\"]), np.max( updated_heights[ \"yearbn\"])))\n",
    "axes.hlines(0, 1500, 4000, linestyles=\"dotted\")\n",
    "axes.set_xlabel( \"Empirical v. Theoretical: Normal Distribution, Difference\")\n",
    "plt.show()"
   ]
  },
  {
   "cell_type": "markdown",
   "metadata": {},
   "source": [
    "By looking at this plot of difference it can be seen normal distribution is a satisfactory model for year born. The yearbn are not truly  normally distributed it can be said, since many data points from positive two standard deviations of the mean are missing. The values of people born in 1970 - 1990."
   ]
  },
  {
   "cell_type": "markdown",
   "metadata": {},
   "source": [
    "Since height and yearbn appears to be  normally distributed and both are quantitative variable lets plot a scatterplot to see if there is any relation."
   ]
  },
  {
   "cell_type": "code",
   "execution_count": 262,
   "metadata": {
    "collapsed": false
   },
   "outputs": [
    {
     "data": {
      "image/png": "[encoded data removed]",
      "text/plain": [
       "<matplotlib.figure.Figure at 0xec35b00>"
      ]
     },
     "metadata": {},
     "output_type": "display_data"
    }
   ],
   "source": [
    "#Plot Scatterplot\n",
    "figure2 = plt.figure(figsize=(20,6))\n",
    "axes = figure2.add_subplot(1, 1, 1)\n",
    "axes.scatter(updated_heights[\"yearbn\"], updated_heights[\"height\"], marker=\"o\", color=\"green\")\n",
    "axes.set_xlabel( \"yearbn\")\n",
    "axes.set_ylabel( \"height\")\n",
    "plt.show()"
   ]
  },
  {
   "cell_type": "markdown",
   "metadata": {},
   "source": [
    "By looking at the chart it appears that data for people born in the late 70's till late 80's are missing. Also can be noticed that the data has very few people from the decade 1910-1920 while majority of the people who took the survey where born from 1940 to 1970's."
   ]
  },
  {
   "cell_type": "code",
   "execution_count": 263,
   "metadata": {
    "collapsed": false
   },
   "outputs": [
    {
     "name": "stdout",
     "output_type": "stream",
     "text": [
      "Spearman Correlation Coefficient: \n"
     ]
    },
    {
     "data": {
      "text/html": [
       "<div>\n",
       "<table border=\"1\" class=\"dataframe\">\n",
       "  <thead>\n",
       "    <tr style=\"text-align: right;\">\n",
       "      <th></th>\n",
       "      <th>earn</th>\n",
       "      <th>height1</th>\n",
       "      <th>height2</th>\n",
       "      <th>race</th>\n",
       "      <th>hisp</th>\n",
       "      <th>yearbn</th>\n",
       "      <th>height</th>\n",
       "      <th>sex_female</th>\n",
       "      <th>sex_male</th>\n",
       "      <th>ed_coll</th>\n",
       "      <th>ed_ele</th>\n",
       "      <th>ed_grad</th>\n",
       "      <th>ed_high</th>\n",
       "      <th>ed_prof</th>\n",
       "    </tr>\n",
       "  </thead>\n",
       "  <tbody>\n",
       "    <tr>\n",
       "      <th>earn</th>\n",
       "      <td>1.000000</td>\n",
       "      <td>0.198628</td>\n",
       "      <td>0.125939</td>\n",
       "      <td>-0.013411</td>\n",
       "      <td>0.048302</td>\n",
       "      <td>-0.105891</td>\n",
       "      <td>0.337379</td>\n",
       "      <td>-0.390152</td>\n",
       "      <td>0.390152</td>\n",
       "      <td>0.128270</td>\n",
       "      <td>-0.144622</td>\n",
       "      <td>0.126524</td>\n",
       "      <td>-0.235236</td>\n",
       "      <td>0.222717</td>\n",
       "    </tr>\n",
       "    <tr>\n",
       "      <th>height1</th>\n",
       "      <td>0.198628</td>\n",
       "      <td>1.000000</td>\n",
       "      <td>-0.526280</td>\n",
       "      <td>-0.016303</td>\n",
       "      <td>0.002190</td>\n",
       "      <td>0.112424</td>\n",
       "      <td>0.614290</td>\n",
       "      <td>-0.490580</td>\n",
       "      <td>0.490580</td>\n",
       "      <td>0.026786</td>\n",
       "      <td>-0.030726</td>\n",
       "      <td>0.027053</td>\n",
       "      <td>-0.033963</td>\n",
       "      <td>0.014100</td>\n",
       "    </tr>\n",
       "    <tr>\n",
       "      <th>height2</th>\n",
       "      <td>0.125939</td>\n",
       "      <td>-0.526280</td>\n",
       "      <td>1.000000</td>\n",
       "      <td>-0.021164</td>\n",
       "      <td>0.076459</td>\n",
       "      <td>-0.003229</td>\n",
       "      <td>0.341750</td>\n",
       "      <td>-0.161693</td>\n",
       "      <td>0.161693</td>\n",
       "      <td>0.006980</td>\n",
       "      <td>-0.007483</td>\n",
       "      <td>0.035316</td>\n",
       "      <td>-0.038803</td>\n",
       "      <td>0.040387</td>\n",
       "    </tr>\n",
       "    <tr>\n",
       "      <th>race</th>\n",
       "      <td>-0.013411</td>\n",
       "      <td>-0.016303</td>\n",
       "      <td>-0.021164</td>\n",
       "      <td>1.000000</td>\n",
       "      <td>0.007961</td>\n",
       "      <td>0.036379</td>\n",
       "      <td>-0.039553</td>\n",
       "      <td>-0.000643</td>\n",
       "      <td>0.000643</td>\n",
       "      <td>0.026827</td>\n",
       "      <td>0.059573</td>\n",
       "      <td>0.002268</td>\n",
       "      <td>-0.048947</td>\n",
       "      <td>-0.000233</td>\n",
       "    </tr>\n",
       "    <tr>\n",
       "      <th>hisp</th>\n",
       "      <td>0.048302</td>\n",
       "      <td>0.002190</td>\n",
       "      <td>0.076459</td>\n",
       "      <td>0.007961</td>\n",
       "      <td>1.000000</td>\n",
       "      <td>-0.070759</td>\n",
       "      <td>0.066532</td>\n",
       "      <td>0.011698</td>\n",
       "      <td>-0.011698</td>\n",
       "      <td>-0.020639</td>\n",
       "      <td>-0.040179</td>\n",
       "      <td>-0.013147</td>\n",
       "      <td>0.024180</td>\n",
       "      <td>0.035185</td>\n",
       "    </tr>\n",
       "    <tr>\n",
       "      <th>yearbn</th>\n",
       "      <td>-0.105891</td>\n",
       "      <td>0.112424</td>\n",
       "      <td>-0.003229</td>\n",
       "      <td>0.036379</td>\n",
       "      <td>-0.070759</td>\n",
       "      <td>1.000000</td>\n",
       "      <td>0.119157</td>\n",
       "      <td>-0.080514</td>\n",
       "      <td>0.080514</td>\n",
       "      <td>0.097617</td>\n",
       "      <td>-0.164951</td>\n",
       "      <td>0.006504</td>\n",
       "      <td>0.002780</td>\n",
       "      <td>-0.090412</td>\n",
       "    </tr>\n",
       "    <tr>\n",
       "      <th>height</th>\n",
       "      <td>0.337379</td>\n",
       "      <td>0.614290</td>\n",
       "      <td>0.341750</td>\n",
       "      <td>-0.039553</td>\n",
       "      <td>0.066532</td>\n",
       "      <td>0.119157</td>\n",
       "      <td>1.000000</td>\n",
       "      <td>-0.703214</td>\n",
       "      <td>0.703214</td>\n",
       "      <td>0.031727</td>\n",
       "      <td>-0.036626</td>\n",
       "      <td>0.060664</td>\n",
       "      <td>-0.070949</td>\n",
       "      <td>0.055297</td>\n",
       "    </tr>\n",
       "    <tr>\n",
       "      <th>sex_female</th>\n",
       "      <td>-0.390152</td>\n",
       "      <td>-0.490580</td>\n",
       "      <td>-0.161693</td>\n",
       "      <td>-0.000643</td>\n",
       "      <td>0.011698</td>\n",
       "      <td>-0.080514</td>\n",
       "      <td>-0.703214</td>\n",
       "      <td>1.000000</td>\n",
       "      <td>-1.000000</td>\n",
       "      <td>-0.001975</td>\n",
       "      <td>0.002922</td>\n",
       "      <td>-0.024548</td>\n",
       "      <td>0.035336</td>\n",
       "      <td>-0.050143</td>\n",
       "    </tr>\n",
       "    <tr>\n",
       "      <th>sex_male</th>\n",
       "      <td>0.390152</td>\n",
       "      <td>0.490580</td>\n",
       "      <td>0.161693</td>\n",
       "      <td>0.000643</td>\n",
       "      <td>-0.011698</td>\n",
       "      <td>0.080514</td>\n",
       "      <td>0.703214</td>\n",
       "      <td>-1.000000</td>\n",
       "      <td>1.000000</td>\n",
       "      <td>0.001975</td>\n",
       "      <td>-0.002922</td>\n",
       "      <td>0.024548</td>\n",
       "      <td>-0.035336</td>\n",
       "      <td>0.050143</td>\n",
       "    </tr>\n",
       "    <tr>\n",
       "      <th>ed_coll</th>\n",
       "      <td>0.128270</td>\n",
       "      <td>0.026786</td>\n",
       "      <td>0.006980</td>\n",
       "      <td>0.026827</td>\n",
       "      <td>-0.020639</td>\n",
       "      <td>0.097617</td>\n",
       "      <td>0.031727</td>\n",
       "      <td>-0.001975</td>\n",
       "      <td>0.001975</td>\n",
       "      <td>1.000000</td>\n",
       "      <td>-0.154761</td>\n",
       "      <td>-0.192658</td>\n",
       "      <td>-0.750293</td>\n",
       "      <td>-0.206753</td>\n",
       "    </tr>\n",
       "    <tr>\n",
       "      <th>ed_ele</th>\n",
       "      <td>-0.144622</td>\n",
       "      <td>-0.030726</td>\n",
       "      <td>-0.007483</td>\n",
       "      <td>0.059573</td>\n",
       "      <td>-0.040179</td>\n",
       "      <td>-0.164951</td>\n",
       "      <td>-0.036626</td>\n",
       "      <td>0.002922</td>\n",
       "      <td>-0.002922</td>\n",
       "      <td>-0.154761</td>\n",
       "      <td>1.000000</td>\n",
       "      <td>-0.043056</td>\n",
       "      <td>-0.167677</td>\n",
       "      <td>-0.046206</td>\n",
       "    </tr>\n",
       "    <tr>\n",
       "      <th>ed_grad</th>\n",
       "      <td>0.126524</td>\n",
       "      <td>0.027053</td>\n",
       "      <td>0.035316</td>\n",
       "      <td>0.002268</td>\n",
       "      <td>-0.013147</td>\n",
       "      <td>0.006504</td>\n",
       "      <td>0.060664</td>\n",
       "      <td>-0.024548</td>\n",
       "      <td>0.024548</td>\n",
       "      <td>-0.192658</td>\n",
       "      <td>-0.043056</td>\n",
       "      <td>1.000000</td>\n",
       "      <td>-0.208737</td>\n",
       "      <td>-0.057520</td>\n",
       "    </tr>\n",
       "    <tr>\n",
       "      <th>ed_high</th>\n",
       "      <td>-0.235236</td>\n",
       "      <td>-0.033963</td>\n",
       "      <td>-0.038803</td>\n",
       "      <td>-0.048947</td>\n",
       "      <td>0.024180</td>\n",
       "      <td>0.002780</td>\n",
       "      <td>-0.070949</td>\n",
       "      <td>0.035336</td>\n",
       "      <td>-0.035336</td>\n",
       "      <td>-0.750293</td>\n",
       "      <td>-0.167677</td>\n",
       "      <td>-0.208737</td>\n",
       "      <td>1.000000</td>\n",
       "      <td>-0.224008</td>\n",
       "    </tr>\n",
       "    <tr>\n",
       "      <th>ed_prof</th>\n",
       "      <td>0.222717</td>\n",
       "      <td>0.014100</td>\n",
       "      <td>0.040387</td>\n",
       "      <td>-0.000233</td>\n",
       "      <td>0.035185</td>\n",
       "      <td>-0.090412</td>\n",
       "      <td>0.055297</td>\n",
       "      <td>-0.050143</td>\n",
       "      <td>0.050143</td>\n",
       "      <td>-0.206753</td>\n",
       "      <td>-0.046206</td>\n",
       "      <td>-0.057520</td>\n",
       "      <td>-0.224008</td>\n",
       "      <td>1.000000</td>\n",
       "    </tr>\n",
       "  </tbody>\n",
       "</table>\n",
       "</div>"
      ],
      "text/plain": [
       "                earn   height1   height2      race      hisp    yearbn    height  sex_female  sex_male   ed_coll    ed_ele   ed_grad   ed_high   ed_prof\n",
       "earn        1.000000  0.198628  0.125939 -0.013411  0.048302 -0.105891  0.337379   -0.390152  0.390152  0.128270 -0.144622  0.126524 -0.235236  0.222717\n",
       "height1     0.198628  1.000000 -0.526280 -0.016303  0.002190  0.112424  0.614290   -0.490580  0.490580  0.026786 -0.030726  0.027053 -0.033963  0.014100\n",
       "height2     0.125939 -0.526280  1.000000 -0.021164  0.076459 -0.003229  0.341750   -0.161693  0.161693  0.006980 -0.007483  0.035316 -0.038803  0.040387\n",
       "race       -0.013411 -0.016303 -0.021164  1.000000  0.007961  0.036379 -0.039553   -0.000643  0.000643  0.026827  0.059573  0.002268 -0.048947 -0.000233\n",
       "hisp        0.048302  0.002190  0.076459  0.007961  1.000000 -0.070759  0.066532    0.011698 -0.011698 -0.020639 -0.040179 -0.013147  0.024180  0.035185\n",
       "yearbn     -0.105891  0.112424 -0.003229  0.036379 -0.070759  1.000000  0.119157   -0.080514  0.080514  0.097617 -0.164951  0.006504  0.002780 -0.090412\n",
       "height      0.337379  0.614290  0.341750 -0.039553  0.066532  0.119157  1.000000   -0.703214  0.703214  0.031727 -0.036626  0.060664 -0.070949  0.055297\n",
       "sex_female -0.390152 -0.490580 -0.161693 -0.000643  0.011698 -0.080514 -0.703214    1.000000 -1.000000 -0.001975  0.002922 -0.024548  0.035336 -0.050143\n",
       "sex_male    0.390152  0.490580  0.161693  0.000643 -0.011698  0.080514  0.703214   -1.000000  1.000000  0.001975 -0.002922  0.024548 -0.035336  0.050143\n",
       "ed_coll     0.128270  0.026786  0.006980  0.026827 -0.020639  0.097617  0.031727   -0.001975  0.001975  1.000000 -0.154761 -0.192658 -0.750293 -0.206753\n",
       "ed_ele     -0.144622 -0.030726 -0.007483  0.059573 -0.040179 -0.164951 -0.036626    0.002922 -0.002922 -0.154761  1.000000 -0.043056 -0.167677 -0.046206\n",
       "ed_grad     0.126524  0.027053  0.035316  0.002268 -0.013147  0.006504  0.060664   -0.024548  0.024548 -0.192658 -0.043056  1.000000 -0.208737 -0.057520\n",
       "ed_high    -0.235236 -0.033963 -0.038803 -0.048947  0.024180  0.002780 -0.070949    0.035336 -0.035336 -0.750293 -0.167677 -0.208737  1.000000 -0.224008\n",
       "ed_prof     0.222717  0.014100  0.040387 -0.000233  0.035185 -0.090412  0.055297   -0.050143  0.050143 -0.206753 -0.046206 -0.057520 -0.224008  1.000000"
      ]
     },
     "execution_count": 263,
     "metadata": {},
     "output_type": "execute_result"
    }
   ],
   "source": [
    "# Correlation using Spearman \n",
    "print \"Spearman Correlation Coefficient: \"\n",
    "updated_heights.corr(method=\"spearman\")"
   ]
  },
  {
   "cell_type": "markdown",
   "metadata": {},
   "source": [
    "# Summary of Corellation - \n",
    "The corellation coefficient using Spearman summary:\n",
    " corelation coefficion is not so strong between earn and height. \n",
    " corelation coefficient for sex and height is strong.\n",
    " out of all education's corelation coefficient is strongest between earn and ed_prof\n",
    " "
   ]
  },
  {
   "cell_type": "markdown",
   "metadata": {},
   "source": [
    "Heat map for qualitative data for education and sex to see if there is any corelation among the data."
   ]
  },
  {
   "cell_type": "code",
   "execution_count": 264,
   "metadata": {
    "collapsed": false
   },
   "outputs": [
    {
     "name": "stdout",
     "output_type": "stream",
     "text": [
      "sex     female      male\n",
      "ed                      \n",
      "coll  0.254360  0.154797\n",
      "ele   0.021076  0.012355\n",
      "grad  0.029070  0.021802\n",
      "high  0.287791  0.160610\n",
      "prof  0.030523  0.027616\n"
     ]
    },
    {
     "data": {
      "text/plain": [
       "<matplotlib.axes._subplots.AxesSubplot at 0xde02be0>"
      ]
     },
     "execution_count": 264,
     "metadata": {},
     "output_type": "execute_result"
    },
    {
     "data": {
      "image/png": "[encoded data removed]",
      "text/plain": [
       "<matplotlib.figure.Figure at 0xec2c1d0>"
      ]
     },
     "metadata": {},
     "output_type": "display_data"
    }
   ],
   "source": [
    "frequencies = pd.crosstab( updated_heights[ \"ed\"], updated_heights[ \"sex\"]).apply(lambda r: r/len(updated_heights))\n",
    "print frequencies\n",
    "\n",
    "sns.heatmap( frequencies)"
   ]
  },
  {
   "cell_type": "markdown",
   "metadata": {},
   "source": [
    "From this heat map we can interpret that:\n",
    "\n",
    "Females:\n",
    "Females in the data set who are (the majority gender) in the study 28(females)/100(people) approx have high school diploma\n",
    "This is followed by college where 25 females of 100 people have completed college.\n",
    "\n",
    "Males:\n",
    "Males propotion 16/100(people) have attended high school followed by college 15/100"
   ]
  },
  {
   "cell_type": "code",
   "execution_count": 265,
   "metadata": {
    "collapsed": false
   },
   "outputs": [
    {
     "name": "stdout",
     "output_type": "stream",
     "text": [
      "        count          mean           std  min      25%      50%      75%       max\n",
      "sex                                                                                \n",
      "female  857.0  14567.670945  14666.098693  0.0   3000.0  12000.0  22000.0  123000.0\n",
      "male    519.0  28930.628131  23517.259823  0.0  15000.0  25000.0  36000.0  200000.0\n"
     ]
    }
   ],
   "source": [
    "#Analyze a quantitative vs qualitative variable\n",
    "# sex and earn\n",
    "\n",
    "grouped = updated_heights.groupby( \"sex\")\n",
    "earn_sex = grouped[ \"earn\"].describe()\n",
    "earn_sex = earn_sex.unstack( level=-1)\n",
    "print earn_sex"
   ]
  },
  {
   "cell_type": "markdown",
   "metadata": {},
   "source": [
    "Males have a high mean salary which is approximately twice that of female. Shocking! \n",
    "The Maximum salary earned by female is just 60% to that of male.\n",
    "The 3rd quartile earning difference between men and women is also at 14k dollars."
   ]
  },
  {
   "cell_type": "code",
   "execution_count": 266,
   "metadata": {
    "collapsed": false
   },
   "outputs": [
    {
     "name": "stdout",
     "output_type": "stream",
     "text": [
      "      count          mean           std  min      25%      50%      75%       max\n",
      "ed                                                                               \n",
      "coll  563.0  22024.689165  19020.687743  0.0   9000.0  19000.0  30000.0  175000.0\n",
      "ele    46.0   7848.434783   9151.156652  0.0   1200.0   5406.0  12750.0   50000.0\n",
      "grad   70.0  28107.142857  18710.396408  0.0  20000.0  25000.0  34750.0  100000.0\n",
      "high  617.0  14983.893031  14061.249777  0.0   3500.0  12000.0  22000.0  105000.0\n",
      "prof   80.0  44075.000000  37085.865130  0.0  24000.0  30000.0  55000.0  200000.0\n"
     ]
    }
   ],
   "source": [
    "#Analyze a quantitative vs qualitative variable\n",
    "# ed and earn\n",
    "\n",
    "grouped = updated_heights.groupby( \"ed\")\n",
    "earn_ed = grouped[ \"earn\"].describe()\n",
    "earn_ed = earn_ed.unstack( level=-1)\n",
    "print earn_ed"
   ]
  },
  {
   "cell_type": "markdown",
   "metadata": {},
   "source": [
    "Mean earnings of people with a professional degree is highest at 44k this is followed by gradschool at 28k and college 22k.(roughly)\n",
    "\n",
    "High school where maximum proportion of people graduate from has a mean earning of 14983. \n",
    "\n",
    "All figures are in Dollars."
   ]
  },
  {
   "cell_type": "markdown",
   "metadata": {},
   "source": [
    "# Multiple Boxplots"
   ]
  },
  {
   "cell_type": "code",
   "execution_count": 267,
   "metadata": {
    "collapsed": false
   },
   "outputs": [
    {
     "data": {
      "image/png": "[encoded data removed]",
      "text/plain": [
       "<matplotlib.figure.Figure at 0xbf9b400>"
      ]
     },
     "metadata": {},
     "output_type": "display_data"
    }
   ],
   "source": [
    "figure = plt.figure(figsize=(10, 6))\n",
    "\n",
    "axes = figure.add_subplot(1, 1, 1)\n",
    "\n",
    "body_styles = pd.unique( updated_heights[ \"ed\"].values)\n",
    "data = [grouped[ \"earn\"].get_group( k) for k in body_styles]\n",
    "patch = axes.boxplot( data, labels=body_styles, patch_artist=True)\n",
    "restyle_boxplot( patch)\n",
    "\n",
    "for i, k in enumerate( body_styles):\n",
    "    data = grouped[ \"earn\"].get_group( k)\n",
    "    x = np.random.normal(i + 1, 0.01, size=len(data))\n",
    "    axes.plot(x, data, 'o', alpha=0.4, color=\"steelblue\")\n",
    "\n",
    "plt.show()"
   ]
  },
  {
   "cell_type": "markdown",
   "metadata": {},
   "source": [
    "The professional degree has the highest earning range. The median is higest for this group as well."
   ]
  },
  {
   "cell_type": "markdown",
   "metadata": {},
   "source": [
    "# 3) Suppose you want to fit a model: earn ~ height. What sign do you expect β1  (the coefficient on height) to have?\n"
   ]
  },
  {
   "cell_type": "markdown",
   "metadata": {},
   "source": [
    "By analyzing the spearment  corelation coefficent it appears that earn and height have a postive linear corelation. So my expecation would be the coefficient of the predictor (regressor, height) will be a postive value.  "
   ]
  },
  {
   "cell_type": "markdown",
   "metadata": {},
   "source": [
    "4) After fitting the model, what sign did  β1  have? Did the 95% credible interval for  β1  include 0? What is the interpretation of the  β0  (intercept) coefficient in this model? How can we improve the interpretability of the intercept term?\n",
    " The regression analysis"
   ]
  },
  {
   "cell_type": "code",
   "execution_count": 268,
   "metadata": {
    "collapsed": true
   },
   "outputs": [],
   "source": [
    "# Helper functions\n",
    "def lm( formula, data=None):\n",
    "    if data is None:\n",
    "        raise ValueError( \"The parameter 'data' must be assigned a non-nil reference to a Pandas DataFrame\")\n",
    "\n",
    "    result = {}\n",
    "    result[ \"formula\"] = formula\n",
    "    result[ \"n\"] = data.shape[ 0]\n",
    "\n",
    "    y, X = patsy.dmatrices( formula, data, return_type=\"matrix\")\n",
    "    model = linear.LinearRegression( fit_intercept=False).fit( X, y)\n",
    "\n",
    "    result[ \"coefficients\"] = model.coef_[ 0]\n",
    "\n",
    "    result[ \"r^2\"] = model.score( X, y)\n",
    "    \n",
    "    y_hat = model.predict( X)\n",
    "    result[ \"residuals\"] = y - y_hat\n",
    "    \n",
    "    sum_squared_error = sum([ e**2 for e in result[ \"residuals\"]])[ 0]\n",
    "\n",
    "    n = len( result[ \"residuals\"])\n",
    "    k = len( result[ \"coefficients\"])\n",
    "    \n",
    "    result[ \"sigma\"] = np.sqrt( sum_squared_error / (n - k))\n",
    "    \n",
    "    return result\n",
    "\n",
    "def bootstrap_lm( formula, data=None, samples=100):\n",
    "    if data is None:\n",
    "        raise ValueError( \"The parameter 'data' must be assigned a non-nil reference to a Pandas DataFrame\")\n",
    "    \n",
    "    bootstrap_results = {}\n",
    "    bootstrap_results[ \"formula\"] = formula\n",
    "\n",
    "    variables = map( lambda x: x.strip(), formula.split(\"~\")[1].split( \"+\"))\n",
    "    variables = [\"intercept\"] + variables\n",
    "    bootstrap_results[ \"variables\"] = variables\n",
    "    \n",
    "    coeffs = []\n",
    "    sigmas = []\n",
    "    rs = []\n",
    "\n",
    "    n = data.shape[ 0]\n",
    "    bootstrap_results[ \"n\"] = n\n",
    "    \n",
    "    for i in xrange( samples):\n",
    "        sampling_indices = [ i for i in [random.randint(0, n - 1) for _ in xrange( 0, n)]]\n",
    "        sampling = data.loc[ sampling_indices]\n",
    "        \n",
    "        results = lm( formula, data=sampling)\n",
    "        coeffs.append( results[ \"coefficients\"])\n",
    "        sigmas.append( results[ \"sigma\"])\n",
    "        rs.append( results[ \"r^2\"])\n",
    "    \n",
    "    coeffs = pd.DataFrame( coeffs, columns=variables)\n",
    "    sigmas = pd.Series( sigmas, name=\"sigma\")\n",
    "    rs = pd.Series( rs, name=\"r^2\")\n",
    "\n",
    "    bootstrap_results[ \"resampled_coefficients\"] = coeffs\n",
    "    bootstrap_results[ \"resampled_sigma\"] = sigmas\n",
    "    bootstrap_results[ \"resampled_r^2\"] = rs\n",
    "    \n",
    "    result = lm( formula, data=data)\n",
    "    \n",
    "    bootstrap_results[ \"residuals\"] = result[ \"residuals\"]\n",
    "    bootstrap_results[ \"coefficients\"] = result[ \"coefficients\"]\n",
    "    bootstrap_results[ \"sigma\"] = result[ \"sigma\"]\n",
    "    bootstrap_results[ \"r^2\"] = result[ \"r^2\"]\n",
    "    return bootstrap_results\n",
    "\n",
    "def describe_bootstrap_fit( result):\n",
    "    print \"regression: \", result[ \"formula\"]\n",
    "    print \"n: \", result[ \"n\"]\n",
    "    print \"----------\"\n",
    "    \n",
    "    \n",
    "    bounds = result[ \"resampled_coefficients\"].quantile([0.025, 0.975])\n",
    "    bounds = bounds.transpose()\n",
    "    bounds = bounds.values.tolist()\n",
    "\n",
    "    for variable, coefficient, bound in zip( result[ \"variables\"], result[\"coefficients\"], bounds):\n",
    "        print variable + \": \", coefficient, bound\n",
    "    print \"----------\"\n",
    "    \n",
    "    sigma_bounds = stats.mstats.mquantiles( result[ \"resampled_sigma\"], [0.025, 0.975])\n",
    "    print \"sigma\", result[ \"sigma\"], sigma_bounds\n",
    "\n",
    "    r_bounds = stats.mstats.mquantiles( result[ \"resampled_r^2\"], [0.025, 0.975])\n",
    "    print \"R^2\", result[ \"r^2\"], r_bounds\n"
   ]
  },
  {
   "cell_type": "code",
   "execution_count": 269,
   "metadata": {
    "collapsed": false,
    "scrolled": true
   },
   "outputs": [
    {
     "name": "stdout",
     "output_type": "stream",
     "text": [
      "regression:  earn ~ height\n",
      "n:  1376\n",
      "----------\n",
      "intercept:  -84633.9215537 [-108556.48322404757, -66113.60726611447]\n",
      "height:  1571.0549608 [1295.535652982146, 1939.3987907596563]\n",
      "----------\n",
      "sigma 18849.0055929 [ 16209.32271669  20846.93763693]\n",
      "R^2 0.0914375095298 [ 0.06155903  0.13968775]\n"
     ]
    }
   ],
   "source": [
    "result = bootstrap_lm( \"earn ~ height\", data = updated_heights)\n",
    "describe_bootstrap_fit( result)"
   ]
  },
  {
   "cell_type": "markdown",
   "metadata": {},
   "source": [
    "# what sign did β1 have\n",
    "Positive as expected\n",
    "\n",
    "# Did the 95% credible interval for β1 include 0\n",
    "No, it doesn't include the value 0. So according to the rule book we should keep this value as we expect a positive coefficient and we get one.\n",
    "\n",
    "# What is the interpretation of the β0 (intercept) coefficient in this model\n",
    "Intercept beta0 is negative, since height cannot be a zero value the current model would give us a negative value of earnings if height is less. \n",
    "\n",
    ">>earn = -84633.921 +1571.05*(height)\n",
    "\n",
    "# How can we improve the interpretability of the intercept term?\n",
    "earnings are exponentially distributed if we take log of the earnings, I belive we can see an improvement in the interpretability of the intercept. Since earn is a response variable and has many data points which are zero I wont be doing it. Instead I will be scaling the height to improve upon the coeffcient. I will be using mean centric scaling and divide by 2 std deviation Gelman."
   ]
  },
  {
   "cell_type": "code",
   "execution_count": 271,
   "metadata": {
    "collapsed": true
   },
   "outputs": [],
   "source": [
    "def scale( df, variable):\n",
    "    x_bar = df[ variable].mean()\n",
    "    std = df[ variable].std()\n",
    "    scaled_variable = (df[ variable] - x_bar) / (2.0 * std)\n",
    "    df[ variable + \"_scaled\"] = scaled_variable"
   ]
  },
  {
   "cell_type": "code",
   "execution_count": 274,
   "metadata": {
    "collapsed": false
   },
   "outputs": [
    {
     "name": "stderr",
     "output_type": "stream",
     "text": [
      "C:\\Users\\Shubhadeep\\Anaconda2\\lib\\site-packages\\ipykernel\\__main__.py:5: SettingWithCopyWarning: \n",
      "A value is trying to be set on a copy of a slice from a DataFrame.\n",
      "Try using .loc[row_indexer,col_indexer] = value instead\n",
      "\n",
      "See the caveats in the documentation: http://pandas.pydata.org/pandas-docs/stable/indexing.html#indexing-view-versus-copy\n"
     ]
    }
   ],
   "source": [
    "scale(updated_heights, \"height\")"
   ]
  },
  {
   "cell_type": "code",
   "execution_count": 278,
   "metadata": {
    "collapsed": false
   },
   "outputs": [
    {
     "data": {
      "text/html": [
       "<div>\n",
       "<table border=\"1\" class=\"dataframe\">\n",
       "  <thead>\n",
       "    <tr style=\"text-align: right;\">\n",
       "      <th></th>\n",
       "      <th>earn</th>\n",
       "      <th>height1</th>\n",
       "      <th>height2</th>\n",
       "      <th>sex</th>\n",
       "      <th>race</th>\n",
       "      <th>hisp</th>\n",
       "      <th>ed</th>\n",
       "      <th>yearbn</th>\n",
       "      <th>height</th>\n",
       "      <th>sex_female</th>\n",
       "      <th>sex_male</th>\n",
       "      <th>ed_coll</th>\n",
       "      <th>ed_ele</th>\n",
       "      <th>ed_grad</th>\n",
       "      <th>ed_high</th>\n",
       "      <th>ed_prof</th>\n",
       "      <th>height_scaled</th>\n",
       "    </tr>\n",
       "  </thead>\n",
       "  <tbody>\n",
       "    <tr>\n",
       "      <th>2</th>\n",
       "      <td>50000.0</td>\n",
       "      <td>6.0</td>\n",
       "      <td>2.0</td>\n",
       "      <td>male</td>\n",
       "      <td>1</td>\n",
       "      <td>2</td>\n",
       "      <td>coll</td>\n",
       "      <td>45.0</td>\n",
       "      <td>74.0</td>\n",
       "      <td>0.0</td>\n",
       "      <td>1.0</td>\n",
       "      <td>1.0</td>\n",
       "      <td>0.0</td>\n",
       "      <td>0.0</td>\n",
       "      <td>0.0</td>\n",
       "      <td>0.0</td>\n",
       "      <td>0.973582</td>\n",
       "    </tr>\n",
       "    <tr>\n",
       "      <th>3</th>\n",
       "      <td>60000.0</td>\n",
       "      <td>5.0</td>\n",
       "      <td>6.0</td>\n",
       "      <td>female</td>\n",
       "      <td>1</td>\n",
       "      <td>2</td>\n",
       "      <td>coll</td>\n",
       "      <td>32.0</td>\n",
       "      <td>66.0</td>\n",
       "      <td>1.0</td>\n",
       "      <td>0.0</td>\n",
       "      <td>1.0</td>\n",
       "      <td>0.0</td>\n",
       "      <td>0.0</td>\n",
       "      <td>0.0</td>\n",
       "      <td>0.0</td>\n",
       "      <td>-0.077741</td>\n",
       "    </tr>\n",
       "    <tr>\n",
       "      <th>4</th>\n",
       "      <td>30000.0</td>\n",
       "      <td>5.0</td>\n",
       "      <td>4.0</td>\n",
       "      <td>female</td>\n",
       "      <td>1</td>\n",
       "      <td>2</td>\n",
       "      <td>coll</td>\n",
       "      <td>61.0</td>\n",
       "      <td>64.0</td>\n",
       "      <td>1.0</td>\n",
       "      <td>0.0</td>\n",
       "      <td>1.0</td>\n",
       "      <td>0.0</td>\n",
       "      <td>0.0</td>\n",
       "      <td>0.0</td>\n",
       "      <td>0.0</td>\n",
       "      <td>-0.340572</td>\n",
       "    </tr>\n",
       "    <tr>\n",
       "      <th>8</th>\n",
       "      <td>51000.0</td>\n",
       "      <td>5.0</td>\n",
       "      <td>3.0</td>\n",
       "      <td>female</td>\n",
       "      <td>1</td>\n",
       "      <td>2</td>\n",
       "      <td>grad</td>\n",
       "      <td>51.0</td>\n",
       "      <td>63.0</td>\n",
       "      <td>1.0</td>\n",
       "      <td>0.0</td>\n",
       "      <td>0.0</td>\n",
       "      <td>0.0</td>\n",
       "      <td>1.0</td>\n",
       "      <td>0.0</td>\n",
       "      <td>0.0</td>\n",
       "      <td>-0.471987</td>\n",
       "    </tr>\n",
       "    <tr>\n",
       "      <th>9</th>\n",
       "      <td>9000.0</td>\n",
       "      <td>5.0</td>\n",
       "      <td>4.0</td>\n",
       "      <td>female</td>\n",
       "      <td>1</td>\n",
       "      <td>2</td>\n",
       "      <td>coll</td>\n",
       "      <td>64.0</td>\n",
       "      <td>64.0</td>\n",
       "      <td>1.0</td>\n",
       "      <td>0.0</td>\n",
       "      <td>1.0</td>\n",
       "      <td>0.0</td>\n",
       "      <td>0.0</td>\n",
       "      <td>0.0</td>\n",
       "      <td>0.0</td>\n",
       "      <td>-0.340572</td>\n",
       "    </tr>\n",
       "  </tbody>\n",
       "</table>\n",
       "</div>"
      ],
      "text/plain": [
       "      earn  height1  height2     sex  race  hisp    ed  yearbn  height  sex_female  sex_male  ed_coll  ed_ele  ed_grad  ed_high  ed_prof  height_scaled\n",
       "2  50000.0      6.0      2.0    male     1     2  coll    45.0    74.0         0.0       1.0      1.0     0.0      0.0      0.0      0.0       0.973582\n",
       "3  60000.0      5.0      6.0  female     1     2  coll    32.0    66.0         1.0       0.0      1.0     0.0      0.0      0.0      0.0      -0.077741\n",
       "4  30000.0      5.0      4.0  female     1     2  coll    61.0    64.0         1.0       0.0      1.0     0.0      0.0      0.0      0.0      -0.340572\n",
       "8  51000.0      5.0      3.0  female     1     2  grad    51.0    63.0         1.0       0.0      0.0     0.0      1.0      0.0      0.0      -0.471987\n",
       "9   9000.0      5.0      4.0  female     1     2  coll    64.0    64.0         1.0       0.0      1.0     0.0      0.0      0.0      0.0      -0.340572"
      ]
     },
     "execution_count": 278,
     "metadata": {},
     "output_type": "execute_result"
    }
   ],
   "source": [
    "updated_heights.head()"
   ]
  },
  {
   "cell_type": "code",
   "execution_count": 279,
   "metadata": {
    "collapsed": false
   },
   "outputs": [
    {
     "name": "stdout",
     "output_type": "stream",
     "text": [
      "regression:  earn ~ height_scaled\n",
      "n:  1376\n",
      "----------\n",
      "intercept:  19985.0944767 [18985.16331934076, 21127.589754056735]\n",
      "height_scaled:  11954.8807669 [9904.330120220699, 14991.538756723046]\n",
      "----------\n",
      "sigma 18849.0055929 [ 16267.61178293  20252.02611822]\n",
      "R^2 0.0914375095298 [ 0.06673078  0.13745145]\n"
     ]
    }
   ],
   "source": [
    "# improve the interpretability by scaling\n",
    "\n",
    "result = bootstrap_lm( \"earn ~ height_scaled\", data = updated_heights)\n",
    "describe_bootstrap_fit( result)"
   ]
  },
  {
   "cell_type": "markdown",
   "metadata": {},
   "source": [
    "The intercept is a positive value 19,985.\n",
    "The model can be interpreted as\n",
    "earn = 19985.0944767 + 11954.8807669 * height\n",
    "\n",
    "Since 95% CI of the intercept is positive and doesn't contain the value 0. We will keep it."
   ]
  },
  {
   "cell_type": "markdown",
   "metadata": {},
   "source": [
    "# Suppose you want to fit the following model: earn explained by height, sex, ed and yearbn. What is your prior belief about the signs of the coefficients  βs for your model? Fit the model.\n",
    "\n",
    "\n"
   ]
  },
  {
   "cell_type": "markdown",
   "metadata": {},
   "source": [
    "By ETA which we have done above we can say that:\n",
    "Corelation Coefficient\n",
    "    \n",
    "1) Height: By Spearmen coefficient the beta of height is positive and will result in increase of the earnings\n",
    "\n",
    "2) Sex: Mean earnings of Male are higher than female but at looking at the Spearmen corelation coefficient we see male earnings will have a positive sign for beta while female a negative\n",
    "\n",
    "3) ed: sorted order decreasing : positives : ed_prof 0.222717, ed_coll0.128270 , ed_grad 0.126524, negatives :ed_ele -0.144622, ed_high -0.235236\n",
    "\n",
    "4) yearbn: negative coefficient corelation negative -0.105891"
   ]
  },
  {
   "cell_type": "code",
   "execution_count": 280,
   "metadata": {
    "collapsed": false
   },
   "outputs": [
    {
     "name": "stdout",
     "output_type": "stream",
     "text": [
      "regression:  earn ~ height_scaled + ed_coll + ed_ele + ed_grad + ed_high+ed_prof+ sex_female +sex_male + yearbn\n",
      "n:  1376\n",
      "----------\n",
      "intercept:  18266.0181871 [15582.931772241056, 20412.244400456926]\n",
      "height_scaled:  3437.06808512 [34.52726922363949, 5501.184228579042]\n",
      "ed_coll:  3265.89666833 [1560.9841382490813, 6154.86059643718]\n",
      "ed_ele:  -12832.4379204 [-15488.108595799447, -8898.612807193585]\n",
      "ed_grad:  8369.08232222 [2306.2828878340297, 10850.242296165745]\n",
      "ed_high:  -3627.70573651 [-4576.358005021895, -716.745247991269]\n",
      "ed_prof:  23091.1828535 [14277.099642147807, 30142.528678976607]\n",
      "sex_female:  3440.17147393 [982.5989988237187, 4174.201450315222]\n",
      "sex_male:  14825.8467132 [13288.94558689846, 17870.967622027314]\n",
      "yearbn:  -144.822574964 [-202.6779388286671, -69.20392149599795]\n",
      "----------\n",
      "sigma 16998.7516102 [ 14324.56308492  18863.52138488]\n",
      "R^2 0.26535768629 [ 0.22916379  0.34797811]\n"
     ]
    }
   ],
   "source": [
    "result = bootstrap_lm( \"earn ~ height_scaled + ed_coll + ed_ele + ed_grad + ed_high+ed_prof+ sex_female +sex_male + yearbn\", data = updated_heights)\n",
    "describe_bootstrap_fit( result)"
   ]
  },
  {
   "cell_type": "markdown",
   "metadata": {},
   "source": [
    "# Provide an interpretation of each coefficient from this model. Include a discussion of your \"belief\" in the value of the coefficient based on the 95% credible interval."
   ]
  },
  {
   "cell_type": "markdown",
   "metadata": {},
   "source": [
    "Discussions on coefficients from the regression model.\n",
    "\n",
    "The intercept is positive 95%CI doesn't have a zero value we were expecting a positive value so this seems true believebale.\n",
    "\n",
    "height_scaled:coefficient is positive 95%CI doesn't have a zero value and is positive so we will keep this in model believable\n",
    "\n",
    "ed_coll: coefficient is positive 95%CI doesn't have a zero value and is positive so we will keep this in model believable\n",
    "\n",
    "ed_ele:  coefficient is negative 95%CI doesn't have a zero value and is negative  so we will keep this in model believable\n",
    "\n",
    "ed_grad: coefficient is positive 95%CI doesn't have a zero value and is positive so we will keep this in model believable\n",
    "\n",
    "ed_high: coefficient is negative 95%CI doesn't have a zero value and is negative  so we will keep this in model believable\n",
    "\n",
    "ed_prof: coefficient is positive 95%CI doesn't have a zero value and is positive so we will keep this in model believable\n",
    "\n",
    "sex_female: we were expecting negative values 95% CI is positive. Thus our prior belief was wrong. This is believable\n",
    "\n",
    "yearbn: or current age at 1990 : expected coefficient negative 95% CI negative believable.\n",
    "\n",
    "\n",
    "Interpretations:\n",
    "\n",
    "If you  have college degree earnings would increase, so would having a grad deegree and proffesional school degree.\n",
    "\n",
    "If you just have elementary and high school degree earning would reduce.\n",
    "\n",
    "Male earnings are higher than female\n",
    "\n",
    "If your height is close to the avg height the earning would increase\n",
    "\n"
   ]
  },
  {
   "cell_type": "markdown",
   "metadata": {},
   "source": [
    "# Plot the residuals against each of the numerical regressors. Is there a pattern that suggests a transformation would improve the regression?"
   ]
  },
  {
   "cell_type": "code",
   "execution_count": 281,
   "metadata": {
    "collapsed": false
   },
   "outputs": [
    {
     "name": "stdout",
     "output_type": "stream",
     "text": [
      "[(1.0, array([-4503.81780217])), (2.0, array([-1705.13761237])), (3.0, array([-11021.76325274])), (4.0, array([-10059.58540201])), (5.0, array([ 231.03178132])), (6.0, array([ 4865.24445247])), (7.0, array([ 4470.6588025])), (7.0, array([ 1617.30985113])), (7.0, array([-16587.75889778])), (8.0, array([-7749.33391797]))]\n"
     ]
    },
    {
     "data": {
      "text/plain": [
       "<matplotlib.lines.Line2D at 0xadbdb70>"
      ]
     },
     "execution_count": 281,
     "metadata": {},
     "output_type": "execute_result"
    },
    {
     "data": {
      "image/png": "[encoded data removed]",
      "text/plain": [
       "<matplotlib.figure.Figure at 0xf564208>"
      ]
     },
     "metadata": {},
     "output_type": "display_data"
    }
   ],
   "source": [
    "# Residual Plot of yearbn\n",
    "figure = plt.figure(figsize=(10,6))\n",
    "\n",
    "axes = figure.add_subplot(1, 1, 1)\n",
    "\n",
    "# order the residuals by yearbn\n",
    "\n",
    "keyed_values = sorted( zip( updated_heights[ \"yearbn\"].values, result[ \"residuals\"]), key=lambda x: x[ 0])\n",
    "print keyed_values[ 0:10]\n",
    "residuals = map( lambda x: x[ 1][ 0], keyed_values)\n",
    "\n",
    "axes.plot(range(0, result[ \"n\"]), residuals, '.', color=\"steelblue\", alpha=0.75)\n",
    "axes.axhline(y=0.0, xmin=0, xmax=result[ \"n\"], c=\"firebrick\", alpha=0.5)"
   ]
  },
  {
   "cell_type": "code",
   "execution_count": 282,
   "metadata": {
    "collapsed": false
   },
   "outputs": [
    {
     "name": "stdout",
     "output_type": "stream",
     "text": [
      "[(-1.1290642347175264, array([ 30726.15427142])), (-1.1290642347175264, array([-8563.4908785])), (-1.1290642347175264, array([ 231.03178132])), (-0.99764887462859742, array([ 4725.54557544])), (-0.99764887462859742, array([ 5553.20695098])), (-0.99764887462859742, array([ 13755.09004039])), (-0.99764887462859742, array([-7677.303519])), (-0.99764887462859742, array([ 4470.6588025])), (-0.99764887462859742, array([-2488.06712326])), (-0.99764887462859742, array([ 28460.56738057]))]\n"
     ]
    },
    {
     "data": {
      "text/plain": [
       "<matplotlib.lines.Line2D at 0xcc22ef0>"
      ]
     },
     "execution_count": 282,
     "metadata": {},
     "output_type": "execute_result"
    },
    {
     "data": {
      "image/png": "[encoded data removed]",
      "text/plain": [
       "<matplotlib.figure.Figure at 0xc037048>"
      ]
     },
     "metadata": {},
     "output_type": "display_data"
    }
   ],
   "source": [
    "# Residual Plot of height_scaled\n",
    "figure = plt.figure(figsize=(10,6))\n",
    "\n",
    "axes = figure.add_subplot(1, 1, 1)\n",
    "\n",
    "# order the residuals by height_scaled\n",
    "\n",
    "keyed_values = sorted( zip( updated_heights[ \"height_scaled\"].values, result[ \"residuals\"]), key=lambda x: x[ 0])\n",
    "print keyed_values[ 0:10]\n",
    "residuals = map( lambda x: x[ 1][ 0], keyed_values)\n",
    "\n",
    "axes.plot(range(0, result[ \"n\"]), residuals, '.', color=\"steelblue\", alpha=0.75)\n",
    "axes.axhline(y=0.0, xmin=0, xmax=result[ \"n\"], c=\"firebrick\", alpha=0.5)"
   ]
  },
  {
   "cell_type": "markdown",
   "metadata": {},
   "source": [
    "The residuals for both height scaled and yearbn doesnt have any pattern and are evenly spread out around baseline the differene in earning between the predicted and the actual value for most data point is within the +/- 50 K range. The model can be improved by making it a linear log model by taking the log of earnings. Since earnings are exponentially distributed sigma value of the model will be low. Though a decision needs to be made on how to go about updating the 0 values in earn. Getting rid of 0 values will mean loss of large chunk of data whereas making it close to mean will let a standardized response. "
   ]
  }
 ],
 "metadata": {
  "anaconda-cloud": {},
  "kernelspec": {
   "display_name": "Python [conda root]",
   "language": "python",
   "name": "conda-root-py"
  },
  "language_info": {
   "codemirror_mode": {
    "name": "ipython",
    "version": 2
   },
   "file_extension": ".py",
   "mimetype": "text/x-python",
   "name": "python",
   "nbconvert_exporter": "python",
   "pygments_lexer": "ipython2",
   "version": "2.7.12"
  }
 },
 "nbformat": 4,
 "nbformat_minor": 0
}
